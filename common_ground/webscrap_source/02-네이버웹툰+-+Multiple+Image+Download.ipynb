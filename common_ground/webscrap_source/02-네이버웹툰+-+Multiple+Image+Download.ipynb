{
 "cells": [
  {
   "cell_type": "code",
   "execution_count": 3,
   "metadata": {},
   "outputs": [
    {
     "name": "stdout",
     "output_type": "stream",
     "text": [
      "writing to 20180914174738_ab27583b11eb33a170163cf46307fe13_IMAG01_1.jpg (3342 bytes)\n",
      "writing to 20180914174738_ab27583b11eb33a170163cf46307fe13_IMAG01_2.jpg (3342 bytes)\n",
      "writing to 20180914174738_ab27583b11eb33a170163cf46307fe13_IMAG01_3.jpg (3342 bytes)\n"
     ]
    }
   ],
   "source": [
    "#header 값을 설정하지 않고 요청하기\n",
    "import os\n",
    "import requests\n",
    "\n",
    "\n",
    "#마이너스의손\n",
    "image_urls = [\n",
    "    'https://image-comic.pstatic.net/webtoon/679568/105/20180914174738_ab27583b11eb33a170163cf46307fe13_IMAG01_1.jpg',\n",
    "    'https://image-comic.pstatic.net/webtoon/679568/105/20180914174738_ab27583b11eb33a170163cf46307fe13_IMAG01_2.jpg',\n",
    "    'https://image-comic.pstatic.net/webtoon/679568/105/20180914174738_ab27583b11eb33a170163cf46307fe13_IMAG01_3.jpg'\n",
    "]\n",
    "for image_url in image_urls:\n",
    "    response = requests.get(image_url)\n",
    "    image_data = response.content\n",
    "    filename = os.path.basename(image_url)\n",
    "    with open(filename, 'wb') as f:\n",
    "        print('writing to {} ({} bytes)'.format(filename, len(image_data)))\n",
    "        f.write(image_data)"
   ]
  },
  {
   "cell_type": "code",
   "execution_count": 4,
   "metadata": {},
   "outputs": [
    {
     "name": "stdout",
     "output_type": "stream",
     "text": [
      "20180914174738_ab27583b11eb33a170163cf46307fe13_IMAG01_1.jpg\n",
      "writing to 20180914174738_ab27583b11eb33a170163cf46307fe13_IMAG01_1.jpg (97370 bytes)\n",
      "20180914174738_ab27583b11eb33a170163cf46307fe13_IMAG01_2.jpg\n",
      "writing to 20180914174738_ab27583b11eb33a170163cf46307fe13_IMAG01_2.jpg (123451 bytes)\n",
      "20180914174738_ab27583b11eb33a170163cf46307fe13_IMAG01_3.jpg\n",
      "writing to 20180914174738_ab27583b11eb33a170163cf46307fe13_IMAG01_3.jpg (131449 bytes)\n"
     ]
    }
   ],
   "source": [
    "# header 값을 설정하여 요청하기\n",
    "import os\n",
    "import requests\n",
    "\n",
    "# https://comic.naver.com/webtoon/detail.nhn?titleId=679568&no=105&weekday=mon - 마이너스의손\n",
    "image_urls = [\n",
    "    'https://image-comic.pstatic.net/webtoon/679568/105/20180914174738_ab27583b11eb33a170163cf46307fe13_IMAG01_1.jpg',\n",
    "    'https://image-comic.pstatic.net/webtoon/679568/105/20180914174738_ab27583b11eb33a170163cf46307fe13_IMAG01_2.jpg',\n",
    "    'https://image-comic.pstatic.net/webtoon/679568/105/20180914174738_ab27583b11eb33a170163cf46307fe13_IMAG01_3.jpg'\n",
    "]\n",
    "for image_url in image_urls: # 이 image_urls는 array죠\n",
    "    headers = {\n",
    "        'Referer': 'https://comic.naver.com/webtoon/detail.nhn?titleId=679568&no=105&weekday=mon'\n",
    "        # 나름 네이버 웹툰이 Referer라는 header를 거치지 않으면 다운받지 못하게 막..은거긴 한데 저것만 뚫으면 다운가능이니 뭐\n",
    "        # header의 성질 자체가 key:value기 때문에..짝지짝지\n",
    "    }\n",
    "    response = requests.get(image_url, headers=headers)\n",
    "    image_data = response.content\n",
    "    #print(type(response),type(image_data))  #<class 'requests.models.Response'> <class 'bytes'>\n",
    "    filename = os.path.basename(image_url) # os라는 내부 모듈에 path라는 함수가 있고 basename은 domain밑에 directory빼고 뽑겠다는거\n",
    "    # 'https://image-comic.pstatic.net/webtoon/679568/105/20180914174738_ab27583b11eb33a170163cf46307fe13_IMAG01_1.jpg',\n",
    "    # 'https://image-comic.pstatic.net/webtoon/679568/105/20180914174738_ab27583b11eb33a170163cf46307fe13_IMAG01_2.jpg',\n",
    "    # 'https://image-comic.pstatic.net/webtoon/679568/105/20180914174738_ab27583b11eb33a170163cf46307fe13_IMAG01_3.jpg'\n",
    "    # 상단에 얘네들은 공통된 https://image-comic.pstatic.net/webtoon/679568/105/ 라는 폴더 안에 들어있는거자내..\n",
    "    # 그 밑에 별개의 이미지명 뽑아내겠다는거니까 path중에서 basename써야해용\n",
    "    print(filename)\n",
    "    with open(filename, 'wb') as f: # binary data라는게 뭘까 그걸 알아봐야지용\n",
    "        # 이진 파일은 텍스트 파일이 아닌 컴퓨터 파일이다. \"바이너리 파일\"이라는 용어는 종종 \"논-텍스트 파일\"을 의미하는 용어로 사용된다.\n",
    "        # 컴퓨터 파일로 컴퓨터 저장과 처리 목적을 위해 이진 형식으로 인코딩된 데이터를 포함한다. \n",
    "        print('writing to {} ({} bytes)'.format(filename, len(image_data)))\n",
    "        f.write(image_data)\n",
    "        # 얘는 받아온 데이터를 그대로 저장하는거라서 pasing 할 필요가 없는거야"
   ]
  },
  {
   "cell_type": "code",
   "execution_count": 6,
   "metadata": {},
   "outputs": [],
   "source": [
    "#title(제목), 회차, url 을 입력 받아서 저장하는 함수 정의\n",
    "import os\n",
    "import requests\n",
    "from bs4 import BeautifulSoup\n",
    "\n",
    "def write_image(title,seq, url):\n",
    "        \n",
    "    #url = 'https://comic.naver.com/webtoon/detail.nhn?titleId=749279&no=4&weekday=mon'\n",
    "    response = requests.get(url)\n",
    "    #print(response.status_code)\n",
    "    soup = BeautifulSoup(response.text, 'html.parser')\n",
    "    # 누누히 말하지만 소스보기에서 보이는것들이 response.text인데\n",
    "    # 하여간 그중에 일부를 긁어낼거라 pasre를 하는거야 위에 이미지 통째로 저장하는거랑 다르게\n",
    "\n",
    "    image_urls = []\n",
    "    for img in soup.select('img[src$=\".jpg\"]'):\n",
    "        # img에 src라는 속성을 가진애를 가져온다구욧\n",
    "        # <img src=\"a.jpg\"> 라는 애가 있으면 a.jpg를 가져오겠다는것임\n",
    "        #print(img['src'])\n",
    "        image_urls.append(img['src'])\n",
    "        \n",
    "    dir_name = 'img/'+title + '_' + seq\n",
    "    if not os.path.isdir(dir_name):\n",
    "        os.mkdir(dir_name)\n",
    "\n",
    "    for image_url in image_urls:\n",
    "        headers = {\n",
    "            'Referer': url\n",
    "        }\n",
    "        #print(image_url)\n",
    "        res = requests.get(image_url, headers=headers)\n",
    "        #print(res.status_code)\n",
    "        image_data = res.content\n",
    "        file_name = os.path.basename(image_url)\n",
    "\n",
    "        with open(dir_name+'/'+file_name,'wb') as f:\n",
    "            print('image file name {} ({} bytes)'.format(file_name,len(image_data)))\n",
    "            f.write(image_data)\n",
    "            \n",
    "#write_image('대만에서','1화','https://comic.naver.com/webtoon/detail.nhn?titleId=749279&no=4&weekday=mon')"
   ]
  },
  {
   "cell_type": "code",
   "execution_count": 7,
   "metadata": {},
   "outputs": [
    {
     "name": "stdout",
     "output_type": "stream",
     "text": [
      "6\n",
      "[{'title': '그 판타지 세계에서 사는 법', 'link': 'https://comic.naver.com/webtoon/list.nhn?titleId=316909'}, {'title': '칼부림', 'link': 'https://comic.naver.com/webtoon/list.nhn?titleId=602916'}, {'title': '그래서 나는 안티팬과 결혼했다', 'link': 'https://comic.naver.com/webtoon/list.nhn?titleId=721457'}, {'title': '남주의 첫날밤을 가져버렸다', 'link': 'https://comic.naver.com/webtoon/list.nhn?titleId=749639'}, {'title': '격기3반', 'link': 'https://comic.naver.com/webtoon/list.nhn?titleId=701535'}, {'title': '이츠마인', 'link': 'https://comic.naver.com/webtoon/list.nhn?titleId=710760'}]\n"
     ]
    }
   ],
   "source": [
    "#네이버 웹툰 메인 페이지에서 만화 제목과 링크를 추출해서 list에 저장한다\n",
    "import os\n",
    "import requests\n",
    "from bs4 import BeautifulSoup\n",
    "from urllib.parse import urljoin\n",
    "\n",
    "url = 'https://comic.naver.com/index.nhn'\n",
    "\n",
    "response = requests.get(url)\n",
    "#print(response.status_code)\n",
    "soup = BeautifulSoup(response.text, 'html.parser')\n",
    "\n",
    "#a_tag_list = soup.select('#genreRecommand div.genreRecomInfo2 > h6 > a')\n",
    "a_tag_list = soup.select('.genreRecomInfo2 h6 a')\n",
    "    # In the CSS, a class selector is a name preceded by a full stop (“.”)\n",
    "    # and an ID selector is a name preceded by a hash character (“#”).\n",
    "    # The difference between an ID and a class is that an ID can be used to identify one element,\n",
    "    # whereas a class can be used to identify more than one.\n",
    "    # 그니까 ID는 중복되지 않은 고유한 값이라는거고 class는 좀 더 범주에 가깝다는거죵?\n",
    "    # genreRecomInfo2에서 h6에서 a 아래에있는애들을.. 가져오겠다는.. 뭐그런...\n",
    "#print(a_tag_list)\n",
    "\n",
    "webtoon_list = []\n",
    "for a_tag in a_tag_list:\n",
    "    #if a_tag['href'] != '#none':\n",
    "    # a_tag는 태그객체걸랑요\n",
    "    #print(a_tag)\n",
    "    link = urljoin(url,a_tag['href'])\n",
    "    title = a_tag.text.strip()\n",
    "    #print(title, link)\n",
    "    webtoon_dict = {'title':title, 'link':link}\n",
    "    webtoon_list.append(webtoon_dict)\n",
    "    webtoon_dict = {}\n",
    "\n",
    "print(len(webtoon_list))        \n",
    "print(webtoon_list)    "
   ]
  },
  {
   "cell_type": "code",
   "execution_count": 8,
   "metadata": {},
   "outputs": [
    {
     "name": "stdout",
     "output_type": "stream",
     "text": [
      "------ 그 판타지 세계에서 사는 법 24. 로얄 마치 (8)\n"
     ]
    },
    {
     "ename": "FileNotFoundError",
     "evalue": "[WinError 3] 지정된 경로를 찾을 수 없습니다: 'img/그 판타지 세계에서 사는 법_24. 로얄 마치 (8)'",
     "output_type": "error",
     "traceback": [
      "\u001b[1;31m---------------------------------------------------------------------------\u001b[0m",
      "\u001b[1;31mFileNotFoundError\u001b[0m                         Traceback (most recent call last)",
      "\u001b[1;32m<ipython-input-8-98546e645edc>\u001b[0m in \u001b[0;36m<module>\u001b[1;34m()\u001b[0m\n\u001b[0;32m     18\u001b[0m             \u001b[0mseq\u001b[0m \u001b[1;33m=\u001b[0m \u001b[0mseq\u001b[0m\u001b[1;33m[\u001b[0m\u001b[1;33m:\u001b[0m\u001b[0mmy_index\u001b[0m\u001b[1;33m+\u001b[0m\u001b[1;36m1\u001b[0m\u001b[1;33m]\u001b[0m\u001b[1;33m\u001b[0m\u001b[0m\n\u001b[0;32m     19\u001b[0m         \u001b[0mprint\u001b[0m\u001b[1;33m(\u001b[0m\u001b[1;34m'------'\u001b[0m\u001b[1;33m,\u001b[0m\u001b[0mtitle\u001b[0m\u001b[1;33m,\u001b[0m \u001b[0mseq\u001b[0m\u001b[1;33m)\u001b[0m\u001b[1;33m\u001b[0m\u001b[0m\n\u001b[1;32m---> 20\u001b[1;33m         \u001b[0mwrite_image\u001b[0m\u001b[1;33m(\u001b[0m\u001b[0mtitle\u001b[0m\u001b[1;33m,\u001b[0m\u001b[0mseq\u001b[0m\u001b[1;33m,\u001b[0m\u001b[0mlink2\u001b[0m\u001b[1;33m)\u001b[0m\u001b[1;33m\u001b[0m\u001b[0m\n\u001b[0m",
      "\u001b[1;32m<ipython-input-6-cdf37938295c>\u001b[0m in \u001b[0;36mwrite_image\u001b[1;34m(title, seq, url)\u001b[0m\n\u001b[0;32m     22\u001b[0m     \u001b[0mdir_name\u001b[0m \u001b[1;33m=\u001b[0m \u001b[1;34m'img/'\u001b[0m\u001b[1;33m+\u001b[0m\u001b[0mtitle\u001b[0m \u001b[1;33m+\u001b[0m \u001b[1;34m'_'\u001b[0m \u001b[1;33m+\u001b[0m \u001b[0mseq\u001b[0m\u001b[1;33m\u001b[0m\u001b[0m\n\u001b[0;32m     23\u001b[0m     \u001b[1;32mif\u001b[0m \u001b[1;32mnot\u001b[0m \u001b[0mos\u001b[0m\u001b[1;33m.\u001b[0m\u001b[0mpath\u001b[0m\u001b[1;33m.\u001b[0m\u001b[0misdir\u001b[0m\u001b[1;33m(\u001b[0m\u001b[0mdir_name\u001b[0m\u001b[1;33m)\u001b[0m\u001b[1;33m:\u001b[0m\u001b[1;33m\u001b[0m\u001b[0m\n\u001b[1;32m---> 24\u001b[1;33m         \u001b[0mos\u001b[0m\u001b[1;33m.\u001b[0m\u001b[0mmkdir\u001b[0m\u001b[1;33m(\u001b[0m\u001b[0mdir_name\u001b[0m\u001b[1;33m)\u001b[0m\u001b[1;33m\u001b[0m\u001b[0m\n\u001b[0m\u001b[0;32m     25\u001b[0m \u001b[1;33m\u001b[0m\u001b[0m\n\u001b[0;32m     26\u001b[0m     \u001b[1;32mfor\u001b[0m \u001b[0mimage_url\u001b[0m \u001b[1;32min\u001b[0m \u001b[0mimage_urls\u001b[0m\u001b[1;33m:\u001b[0m\u001b[1;33m\u001b[0m\u001b[0m\n",
      "\u001b[1;31mFileNotFoundError\u001b[0m: [WinError 3] 지정된 경로를 찾을 수 없습니다: 'img/그 판타지 세계에서 사는 법_24. 로얄 마치 (8)'"
     ]
    }
   ],
   "source": [
    "for webtoon_link in webtoon_list[0:2]:\n",
    "    link = webtoon_link['link']\n",
    "    response = requests.get(link)\n",
    "    #print(response.status_code)\n",
    "    soup = BeautifulSoup(response.text, 'html.parser')\n",
    "    title = webtoon_link['title']\n",
    "    a_tag_list = soup.select('td.title > a')\n",
    "    for a_tag in a_tag_list:\n",
    "        #print(a_tag)\n",
    "        link2 = urljoin(link, a_tag['href'])\n",
    "        seq = a_tag.text\n",
    "        \n",
    "        # 글제목에 '화' 라는 문자열이 있으면\n",
    "        if '화' in seq:\n",
    "            my_index = seq.index('화')\n",
    "            #print(my_index)\n",
    "            # '화' 문자열의 인덱스 기준으로 앞의 문자열을 슬라이싱 한다\n",
    "            seq = seq[:my_index+1]\n",
    "        print('------',title, seq)\n",
    "        write_image(title,seq,link2)"
   ]
  }
 ],
 "metadata": {
  "kernelspec": {
   "display_name": "Python 3",
   "language": "python",
   "name": "python3"
  },
  "language_info": {
   "codemirror_mode": {
    "name": "ipython",
    "version": 3
   },
   "file_extension": ".py",
   "mimetype": "text/x-python",
   "name": "python",
   "nbconvert_exporter": "python",
   "pygments_lexer": "ipython3",
   "version": "3.7.0"
  }
 },
 "nbformat": 4,
 "nbformat_minor": 2
}
