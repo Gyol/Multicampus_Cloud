{
 "cells": [
  {
   "cell_type": "markdown",
   "metadata": {},
   "source": [
    "### 웹툰 메인 이미지 스크래핑\n",
    "* 추천 웹툰의 title과 link 가져오기\n",
    "* {title:'대만에서, 너와 하루', link:'https://comic.naver.com/webtoon/list.nhn?titleId=749279'}\n",
    "* dict 한개가 웹툰 한 개 정보\n",
    "* 근데 추천웹툰이 여러개니까 그걸 또 list에 담을 것.\n",
    "* [{title:' '. link:' '}{}{}] 뭐 이런식이요\n"
   ]
  },
  {
   "cell_type": "code",
   "execution_count": 199,
   "metadata": {},
   "outputs": [
    {
     "name": "stdout",
     "output_type": "stream",
     "text": [
      "<class 'list'>\n",
      "6\n",
      "89\n",
      "6\n",
      "히어로메이커 - https://comic.naver.com/webtoon/list.nhn?titleId=21815\n",
      "\n",
      "대만에서, 너와 하루 - https://comic.naver.com/webtoon/list.nhn?titleId=749279\n",
      "\n",
      "야자괴담 - https://comic.naver.com/webtoon/list.nhn?titleId=743025\n",
      "\n",
      "중독연구소 - https://comic.naver.com/webtoon/list.nhn?titleId=740132\n",
      "\n",
      "결혼생활 그림일기 - https://comic.naver.com/webtoon/list.nhn?titleId=741891\n",
      "\n",
      "귀전구담 - https://comic.naver.com/webtoon/list.nhn?titleId=694946\n",
      "\n",
      "[{'title': '히어로메이커', 'link': 'https://comic.naver.com/webtoon/list.nhn?titleId=21815'}, {'title': '대만에서, 너와 하루', 'link': 'https://comic.naver.com/webtoon/list.nhn?titleId=749279'}, {'title': '야자괴담', 'link': 'https://comic.naver.com/webtoon/list.nhn?titleId=743025'}, {'title': '중독연구소', 'link': 'https://comic.naver.com/webtoon/list.nhn?titleId=740132'}, {'title': '결혼생활 그림일기', 'link': 'https://comic.naver.com/webtoon/list.nhn?titleId=741891'}, {'title': '귀전구담', 'link': 'https://comic.naver.com/webtoon/list.nhn?titleId=694946'}]\n"
     ]
    }
   ],
   "source": [
    "import requests\n",
    "from bs4 import BeautifulSoup\n",
    "from urllib.parse import urljoin\n",
    "\n",
    "main_url = 'https://comic.naver.com/index.nhn'\n",
    "\n",
    "res = requests.get(main_url) # url들을 가져오는거지\n",
    "html = res.text # 페이지 소스보기 해서 보이는것들 싹 가져오는거\n",
    "# 이제 beautifulsoup 을 이용해서 객체를 생성해서 parsing하겠다고 해야돼\n",
    "soup = BeautifulSoup(html, 'html.parser')\n",
    "\n",
    "# 내가 원하는 부분 ul tag의 id를 가져올거야 그건 중복되지않는 문자를 쓸거거든\n",
    "# copy selector 했을때 나오는 이 좌표 키워드들 '#genreRecommand > li:nth-child(2) > div.genreRecomImg2 > a' 참조해\n",
    "print(type(soup.select('#genreRecommand'))) # ul태그라고 안쓰고 대신 '#'붙임\n",
    "print(len(soup.select('#genreRecommand li')))\n",
    "# 여기까지 하면 지금 추천웹툰 gsnreRecommand가 6개 있기때문에 li가 6개있는게 맞아용\n",
    "print(len(soup.select('#content ul li a')))\n",
    "# 여기까지 하면 이미지, 제목, 회차설명, 작가명에 모두 a태그가 붙어있기 때문에 24가 뜸\n",
    "# <ul> -자식-> <li> -> <a> 인데 범주로 생각해보면 ul전체추천웹툰 li개수 a밑에 항목\n",
    "# /webtoon/list.nhn?titleId=749279\n",
    "\n",
    "print(len(soup.select('#genreRecommand h6 a')))\n",
    "\n",
    "webtoon_list = []\n",
    "\n",
    "for a_tag in soup.select('#genreRecommand h6 a'):\n",
    "    title = a_tag.text.strip()\n",
    "    link = urljoin(main_url, a_tag['href']) # 속성에는 [] 준다구요\n",
    "    print(title, '-',link)\n",
    "    webtoon_dict = {'title':title, 'link':link}\n",
    "\n",
    "    webtoon_list.append(webtoon_dict)\n",
    "    webtoon_dict = {}\n",
    "    print()\n",
    "\n",
    "print(webtoon_list)"
   ]
  },
  {
   "cell_type": "markdown",
   "metadata": {},
   "source": [
    "### 특정 웹툰의 image 다운로드를 함수로 선언하기"
   ]
  },
  {
   "cell_type": "code",
   "execution_count": 200,
   "metadata": {},
   "outputs": [],
   "source": [
    "def write_image(title, main_url):\n",
    "    print(title, main_url)\n",
    "    # 이거 밑에꺼 앞에 쌤이 주신거에서 복붙해온거요\n",
    "    import requests\n",
    "    from bs4 import BeautifulSoup\n",
    "    import os\n",
    "\n",
    "    res = requests.get(main_url)\n",
    "    html = res.text\n",
    "    soup = BeautifulSoup(html, 'html.parser')\n",
    "\n",
    "    img_urls = []\n",
    "    for img_url in soup.select(\"img[src$='.jpg']\"):\n",
    "        #print(img_url)\n",
    "        img_urls.append(img_url['src'])\n",
    "\n",
    "    # 디렉토리 생성\n",
    "    dir_name = 'img/' + title\n",
    "    if not os.path.isdir(dir_name): # img밑에 받은 title 명으로 폴더만들겠다는 뜻\n",
    "        os.mkdir(dir_name)\n",
    "\n",
    "    print(len(img_urls)) \n",
    "    for img_url in img_urls:\n",
    "        #print(img_url)\n",
    "        req_header = {\n",
    "            'referer':main_url\n",
    "        }\n",
    "\n",
    "        res2 = requests.get(img_url, headers=req_header)\n",
    "        img_data = res2.content\n",
    "        file_name = os.path.basename(img_url)\n",
    "        with open(dir_name + '/' + file_name,'wb') as file:\n",
    "            print('Writing to {} ({} bytes)'.format(file_name,len(img_data)))    \n",
    "            file.write(img_data)    "
   ]
  },
  {
   "cell_type": "code",
   "execution_count": 201,
   "metadata": {},
   "outputs": [
    {
     "name": "stdout",
     "output_type": "stream",
     "text": [
      "대만에서, 너와 하루 https://comic.naver.com/webtoon/list.nhn?titleId=749279\n",
      "13\n",
      "Writing to thumbnail_IMAG06_0862a825-7c18-49ac-ba0c-9ac0f454f11c.jpg (16593 bytes)\n",
      "Writing to thumbnail_202x120_62e257c6-32ac-4159-80a9-2790cbd7d5cd.jpg (27051 bytes)\n",
      "Writing to thumbnail_202x120_9c838080-555d-456d-8698-094d0c49b8d0.jpg (32048 bytes)\n",
      "Writing to thumbnail_202x120_460b61a7-b8ef-4be8-964d-c867dcab62a5.jpg (32975 bytes)\n",
      "Writing to thumbnail_202x120_156deca2-f458-441b-92ce-cb4250d352fc.jpg (28466 bytes)\n",
      "Writing to thumbnail_IMAG10_85425026-fd1c-4a8a-8d58-e257bbf892c0.jpg (22743 bytes)\n",
      "Writing to thumbnail_IMAG10_545c2365-1d18-4cd3-afd9-27b161a4c664.jpg (12749 bytes)\n",
      "Writing to thumbnail_IMAG10_b324ec4f-f869-4b55-b2fb-63306bef3a41.jpg (10601 bytes)\n",
      "Writing to thumbnail_IMAG10_69a59ea4-ece8-4454-beea-a730adae236f.jpg (10347 bytes)\n",
      "Writing to thumbnail_IMAG10_1ffbcabb-b5fd-41d8-9500-faaee1d3cbb4.jpg (9410 bytes)\n",
      "Writing to bnr_partnership.jpg (10326 bytes)\n",
      "Writing to bnr_joinus.jpg (17502 bytes)\n",
      "Writing to bnr_careers.jpg (18455 bytes)\n"
     ]
    }
   ],
   "source": [
    "write_image('대만에서, 너와 하루', 'https://comic.naver.com/webtoon/list.nhn?titleId=749279')"
   ]
  },
  {
   "cell_type": "code",
   "execution_count": null,
   "metadata": {},
   "outputs": [],
   "source": []
  },
  {
   "cell_type": "code",
   "execution_count": 99,
   "metadata": {},
   "outputs": [
    {
     "name": "stdout",
     "output_type": "stream",
     "text": [
      "6\n"
     ]
    },
    {
     "data": {
      "text/plain": [
       "['/webtoon/list.nhn?titleId=626906',\n",
       " '/webtoon/list.nhn?titleId=20853',\n",
       " '/webtoon/list.nhn?titleId=616239',\n",
       " '/webtoon/list.nhn?titleId=716857',\n",
       " '/webtoon/list.nhn?titleId=703850',\n",
       " '/webtoon/list.nhn?titleId=743139',\n",
       " '/webtoon/list.nhn?titleId=21815',\n",
       " '/webtoon/list.nhn?titleId=749279',\n",
       " '/webtoon/list.nhn?titleId=743025',\n",
       " '/webtoon/list.nhn?titleId=740132',\n",
       " '/webtoon/list.nhn?titleId=741891',\n",
       " '/webtoon/list.nhn?titleId=694946']"
      ]
     },
     "execution_count": 99,
     "metadata": {},
     "output_type": "execute_result"
    }
   ],
   "source": [
    "import requests\n",
    "from bs4 import BeautifulSoup\n",
    "import os\n",
    "\n",
    "main_url = 'https://comic.naver.com/index.nhn'\n",
    "\n",
    "res = requests.get(main_url)\n",
    "html = res.text\n",
    "soup = BeautifulSoup(html, 'html.parser')\n",
    "\n",
    "print(len(soup.select('#genreRecommand div.genreRecomInfo2 h6 a')))\n",
    "\n",
    "haeboja = soup.select('#genreRecommand div.genreRecomInfo2 h6 a')\n",
    "\n",
    "\n",
    "\n",
    "for img_url in soup.select('#genreRecommand div.genreRecomInfo2 h6 a'):\n",
    "    img_urls.append(img_url['href'])\n",
    "    \n",
    "    \n",
    "img_urls"
   ]
  },
  {
   "cell_type": "markdown",
   "metadata": {},
   "source": [
    "### 쌤이하심"
   ]
  },
  {
   "cell_type": "code",
   "execution_count": 210,
   "metadata": {},
   "outputs": [
    {
     "name": "stdout",
     "output_type": "stream",
     "text": [
      "https://comic.naver.com/webtoon/detail.nhn?titleId=400739&no=388\n",
      "https://comic.naver.com/webtoon/detail.nhn?titleId=731019&no=43\n",
      "https://comic.naver.com/webtoon/detail.nhn?titleId=746535&no=3\n",
      "https://comic.naver.com/webtoon/detail.nhn?titleId=731063&no=53\n",
      "https://comic.naver.com/webtoon/detail.nhn?titleId=730656&no=55\n",
      "https://comic.naver.com/webtoon/detail.nhn?titleId=733080&no=44\n"
     ]
    },
    {
     "data": {
      "text/plain": [
       "[{'title': '에이머',\n",
       "  'link': 'https://comic.naver.com/webtoon/list.nhn?titleId=400739',\n",
       "  'detail_link': 'https://comic.naver.com/webtoon/detail.nhn?titleId=400739&no=388'},\n",
       " {'title': '그날 죽은 나는',\n",
       "  'link': 'https://comic.naver.com/webtoon/list.nhn?titleId=731019',\n",
       "  'detail_link': 'https://comic.naver.com/webtoon/detail.nhn?titleId=731019&no=43'},\n",
       " {'title': '언메이크',\n",
       "  'link': 'https://comic.naver.com/webtoon/list.nhn?titleId=746535',\n",
       "  'detail_link': 'https://comic.naver.com/webtoon/detail.nhn?titleId=746535&no=3'},\n",
       " {'title': '킬링타임',\n",
       "  'link': 'https://comic.naver.com/webtoon/list.nhn?titleId=731063',\n",
       "  'detail_link': 'https://comic.naver.com/webtoon/detail.nhn?titleId=731063&no=53'},\n",
       " {'title': '사신소년',\n",
       "  'link': 'https://comic.naver.com/webtoon/list.nhn?titleId=730656',\n",
       "  'detail_link': 'https://comic.naver.com/webtoon/detail.nhn?titleId=730656&no=55'},\n",
       " {'title': '그놈은 흑염룡',\n",
       "  'link': 'https://comic.naver.com/webtoon/list.nhn?titleId=733080',\n",
       "  'detail_link': 'https://comic.naver.com/webtoon/detail.nhn?titleId=733080&no=44'}]"
      ]
     },
     "execution_count": 210,
     "metadata": {},
     "output_type": "execute_result"
    }
   ],
   "source": [
    "import requests\n",
    "from bs4 import BeautifulSoup\n",
    "import os\n",
    "\n",
    "main_url = 'https://comic.naver.com/index.nhn'\n",
    "\n",
    "res = requests.get(main_url)\n",
    "html = res.text\n",
    "soup = BeautifulSoup(html, 'html.parser')\n",
    "\n",
    "webtoon_list = []\n",
    "webtoon_dict = {}\n",
    "\n",
    "for div_tag in soup.select(' .genreRecomInfo2'):\n",
    "    # for a_tag1 in div_tag.select('h6 a'): 이래도 되고\n",
    "    a_tag1 = div_tag.select('h6 a')[0]\n",
    "    title = a_tag1.text.strip()\n",
    "    link = urljoin(main_url, a_tag1['href'])\n",
    "    webtoon_dict[\"title\"] = title\n",
    "    webtoon_dict[\"link\"] = link\n",
    "        \n",
    "    for a_tag2 in div_tag.select('p a'):\n",
    "    # a_tag2 = div_tag.select('p a')[0] 이래도 돼\n",
    "        detail_link = urljoin(main_url, a_tag2['href'])\n",
    "        print(detail_link)\n",
    "        webtoon_dict[\"detail_link\"] = detail_link\n",
    "    webtoon_list.append(webtoon_dict)\n",
    "    webtoon_dict = {}\n",
    "    \n",
    "webtoon_list"
   ]
  },
  {
   "cell_type": "code",
   "execution_count": 211,
   "metadata": {},
   "outputs": [
    {
     "name": "stdout",
     "output_type": "stream",
     "text": [
      "----- 0 에이머 https://comic.naver.com/webtoon/list.nhn?titleId=400739\n",
      "에이머 https://comic.naver.com/webtoon/list.nhn?titleId=400739\n",
      "19\n",
      "Writing to thumbnail_IMAG06_7ef2edff-f2fa-494c-ab2d-ce67d1324ad7.jpg (152447 bytes)\n",
      "Writing to thumbnail_202x120_66895b7c-c296-4c4f-ac1d-3d6b0284a15c.jpg (15324 bytes)\n",
      "Writing to thumbnail_202x120_f2020087-7da6-4637-8a27-436bbbde5390.jpg (17431 bytes)\n",
      "Writing to thumbnail_202x120_a732535f-da9d-4329-a191-488ce614924c.jpg (36165 bytes)\n",
      "Writing to thumbnail_202x120_a802c203-d433-4c0d-b71d-a546a810b333.jpg (21921 bytes)\n",
      "Writing to thumbnail_202x120_3397b724-e66c-47dc-b4aa-f2318247dd46.jpg (29075 bytes)\n",
      "Writing to thumbnail_202x120_4ef53f09-4d9f-4469-a791-3a75c7dc1e03.jpg (32304 bytes)\n",
      "Writing to thumbnail_202x120_9d3e1ccf-c0aa-4ea1-9d58-212b520c2293.jpg (35492 bytes)\n",
      "Writing to thumbnail_202x120_db32761b-ea9c-422e-8863-f461ba7fb67d.jpg (21310 bytes)\n",
      "Writing to thumbnail_202x120_252643d3-daab-455e-9b14-0440237d9a52.jpg (33427 bytes)\n",
      "Writing to thumbnail_202x120_8120b4b1-3273-458d-937e-0eb3867ba0c0.jpg (28637 bytes)\n",
      "Writing to thumbnail_IMAG10_df1a8c2f-63c4-44e1-b1f5-907c41c13243.jpg (11920 bytes)\n",
      "Writing to thumbnail_IMAG10_0b65a45a-71a9-4f59-9942-ec1f726d4eee.jpg (11838 bytes)\n",
      "Writing to thumbnail_IMAG10_9b32956f-0e80-4d26-afd3-836796eaad25.jpg (146964 bytes)\n",
      "Writing to thumbnail_IMAG10_28672aca-7303-4e2a-8ad3-b14f6c449455.jpg (9514 bytes)\n",
      "Writing to thumbnail_IMAG10_b6628204-2a4a-4d01-a4e2-47cf7292ecfa.jpg (8868 bytes)\n",
      "Writing to bnr_partnership.jpg (10326 bytes)\n",
      "Writing to bnr_joinus.jpg (17502 bytes)\n",
      "Writing to bnr_careers.jpg (18455 bytes)\n",
      "----- 1 그날 죽은 나는 https://comic.naver.com/webtoon/list.nhn?titleId=731019\n",
      "그날 죽은 나는 https://comic.naver.com/webtoon/list.nhn?titleId=731019\n",
      "19\n",
      "Writing to thumbnail_IMAG06_8f110255-ed96-48b6-be14-8a34411c1296.jpg (14502 bytes)\n",
      "Writing to thumbnail_202x120_5de218e6-492a-49c3-95c7-14d74364fea3.jpg (20869 bytes)\n",
      "Writing to thumbnail_202x120_07f6dae4-fa9d-4a98-9d48-488a388de579.jpg (18551 bytes)\n",
      "Writing to thumbnail_202x120_fcbe7cd2-b627-4e9d-a5ce-3a0c21e33961.jpg (19238 bytes)\n",
      "Writing to thumbnail_202x120_d4c643c4-d8c6-473c-9815-02579d066e69.jpg (18680 bytes)\n",
      "Writing to thumbnail_202x120_808f2aba-a38a-4b98-9e5f-08be600d0a86.jpg (23789 bytes)\n",
      "Writing to thumbnail_202x120_1a24fd7d-685f-4e96-91fe-06ec11f965f0.jpg (24538 bytes)\n",
      "Writing to thumbnail_202x120_ca1364cf-7b62-4226-9427-42268f6f4d0c.jpg (20357 bytes)\n",
      "Writing to thumbnail_202x120_8da4fe69-a5e5-401e-ab57-a41e0f41b409.jpg (21676 bytes)\n",
      "Writing to thumbnail_202x120_183d6ac4-9490-4694-b381-1bea127d99e0.jpg (24342 bytes)\n",
      "Writing to thumbnail_202x120_90829273-3852-42b4-a1bd-786a377cfffe.jpg (16959 bytes)\n",
      "Writing to thumbnail_IMAG10_df1a8c2f-63c4-44e1-b1f5-907c41c13243.jpg (11920 bytes)\n",
      "Writing to thumbnail_IMAG10_85425026-fd1c-4a8a-8d58-e257bbf892c0.jpg (22743 bytes)\n",
      "Writing to thumbnail_IMAG10_545c2365-1d18-4cd3-afd9-27b161a4c664.jpg (12749 bytes)\n",
      "Writing to thumbnail_IMAG10_b324ec4f-f869-4b55-b2fb-63306bef3a41.jpg (10601 bytes)\n",
      "Writing to thumbnail_IMAG10_8087458b-54db-4a79-a332-891abbf266f5.jpg (10885 bytes)\n",
      "Writing to bnr_partnership.jpg (10326 bytes)\n",
      "Writing to bnr_joinus.jpg (17502 bytes)\n",
      "Writing to bnr_careers.jpg (18455 bytes)\n",
      "----- 2 언메이크 https://comic.naver.com/webtoon/list.nhn?titleId=746535\n",
      "언메이크 https://comic.naver.com/webtoon/list.nhn?titleId=746535\n",
      "12\n",
      "Writing to thumbnail_IMAG06_8df80128-5cbb-4bf2-8e22-3b6bd0df060e.jpg (13513 bytes)\n",
      "Writing to thumbnail_202x120_4f45fc7a-bace-428a-88aa-159d92518b65.jpg (37783 bytes)\n",
      "Writing to thumbnail_202x120_033071a1-d592-480d-8261-c6c385fbaae6.jpg (12939 bytes)\n",
      "Writing to thumbnail_202x120_806e3474-c097-431e-935b-817956ed7de8.jpg (18097 bytes)\n",
      "Writing to thumbnail_IMAG10_df1a8c2f-63c4-44e1-b1f5-907c41c13243.jpg (11920 bytes)\n",
      "Writing to thumbnail_IMAG10_9b32956f-0e80-4d26-afd3-836796eaad25.jpg (146964 bytes)\n",
      "Writing to thumbnail_IMAG10_0b65a45a-71a9-4f59-9942-ec1f726d4eee.jpg (11838 bytes)\n",
      "Writing to thumbnail_IMAG10_28672aca-7303-4e2a-8ad3-b14f6c449455.jpg (9514 bytes)\n",
      "Writing to thumbnail_IMAG10_b6628204-2a4a-4d01-a4e2-47cf7292ecfa.jpg (8868 bytes)\n",
      "Writing to bnr_partnership.jpg (10326 bytes)\n",
      "Writing to bnr_joinus.jpg (17502 bytes)\n",
      "Writing to bnr_careers.jpg (18455 bytes)\n",
      "----- 3 킬링타임 https://comic.naver.com/webtoon/list.nhn?titleId=731063\n",
      "킬링타임 https://comic.naver.com/webtoon/list.nhn?titleId=731063\n",
      "19\n",
      "Writing to thumbnail_IMAG06_22ae5b00-84a3-4994-b3ba-9fe7978c6510.jpg (19853 bytes)\n",
      "Writing to thumbnail_202x120_885255ff-1756-463e-8ae4-dffefdcea0ac.jpg (38281 bytes)\n",
      "Writing to thumbnail_202x120_adc3f98c-a954-4184-9685-dfb2236732a2.jpg (31138 bytes)\n",
      "Writing to thumbnail_202x120_f0161f84-5b45-47b0-9d98-7090c064066e.jpg (34591 bytes)\n",
      "Writing to thumbnail_202x120_48305d10-697a-41e7-80f0-8bc8ac68535c.jpg (28234 bytes)\n",
      "Writing to thumbnail_202x120_853b236d-7603-4a3a-be01-eec44549e17c.jpg (25258 bytes)\n",
      "Writing to thumbnail_202x120_68863942-ddba-4b12-aec9-c68dfb8b807b.jpg (25175 bytes)\n",
      "Writing to thumbnail_202x120_0c04f361-e467-40be-a53a-bab82a47680a.jpg (34282 bytes)\n",
      "Writing to thumbnail_202x120_79c06c17-e7e5-43dc-a0de-64a564d08e21.jpg (30850 bytes)\n",
      "Writing to thumbnail_202x120_659c1c19-9901-4318-bfb4-7f510694eb40.jpg (27493 bytes)\n",
      "Writing to thumbnail_202x120_c4df0819-1194-4d78-9a14-ebb2bd68ff3d.jpg (28263 bytes)\n",
      "Writing to thumbnail_IMAG10_df1a8c2f-63c4-44e1-b1f5-907c41c13243.jpg (11920 bytes)\n",
      "Writing to thumbnail_IMAG10_85425026-fd1c-4a8a-8d58-e257bbf892c0.jpg (22743 bytes)\n",
      "Writing to thumbnail_IMAG10_545c2365-1d18-4cd3-afd9-27b161a4c664.jpg (12749 bytes)\n",
      "Writing to thumbnail_IMAG10_b324ec4f-f869-4b55-b2fb-63306bef3a41.jpg (10601 bytes)\n",
      "Writing to thumbnail_IMAG10_8087458b-54db-4a79-a332-891abbf266f5.jpg (10885 bytes)\n",
      "Writing to bnr_partnership.jpg (10326 bytes)\n",
      "Writing to bnr_joinus.jpg (17502 bytes)\n",
      "Writing to bnr_careers.jpg (18455 bytes)\n",
      "----- 4 사신소년 https://comic.naver.com/webtoon/list.nhn?titleId=730656\n",
      "사신소년 https://comic.naver.com/webtoon/list.nhn?titleId=730656\n",
      "19\n",
      "Writing to thumbnail_IMAG06_d753f6ee-4b8b-4ff2-a542-31473376a1ad.jpg (13457 bytes)\n",
      "Writing to thumbnail_202x120_2784b20e-7411-4c14-8d94-a689b5cebcf9.jpg (28393 bytes)\n",
      "Writing to thumbnail_202x120_d0136486-32df-4cf1-9935-1318964c764a.jpg (31542 bytes)\n",
      "Writing to thumbnail_202x120_b16e3a4e-9401-43cd-bbc7-184046076ad9.jpg (33114 bytes)\n",
      "Writing to thumbnail_202x120_71f0292e-dc5d-4740-aa7b-6aa5cdd4b06c.jpg (27637 bytes)\n",
      "Writing to thumbnail_202x120_5edaa93e-3455-4757-a092-86212bfa7c1c.jpg (41952 bytes)\n",
      "Writing to thumbnail_202x120_a236ed29-52c1-4ffb-b4ef-1ba36c79ffd9.jpg (34401 bytes)\n",
      "Writing to thumbnail_202x120_7405cd25-7824-452c-9b99-02c14a1f68b8.jpg (34108 bytes)\n",
      "Writing to thumbnail_202x120_e7dedf5f-a020-4240-bd4e-577624a56bf4.jpg (21630 bytes)\n",
      "Writing to thumbnail_202x120_089fa9c1-d55d-4f09-bdc4-9686951569a2.jpg (39303 bytes)\n",
      "Writing to thumbnail_202x120_e97dbb80-f411-4dbc-b968-64e3c2a60621.jpg (32633 bytes)\n",
      "Writing to thumbnail_IMAG10_df1a8c2f-63c4-44e1-b1f5-907c41c13243.jpg (11920 bytes)\n",
      "Writing to thumbnail_IMAG10_85425026-fd1c-4a8a-8d58-e257bbf892c0.jpg (22743 bytes)\n",
      "Writing to thumbnail_IMAG10_545c2365-1d18-4cd3-afd9-27b161a4c664.jpg (12749 bytes)\n",
      "Writing to thumbnail_IMAG10_b324ec4f-f869-4b55-b2fb-63306bef3a41.jpg (10601 bytes)\n",
      "Writing to thumbnail_IMAG10_8087458b-54db-4a79-a332-891abbf266f5.jpg (10885 bytes)\n",
      "Writing to bnr_partnership.jpg (10326 bytes)\n",
      "Writing to bnr_joinus.jpg (17502 bytes)\n",
      "Writing to bnr_careers.jpg (18455 bytes)\n",
      "----- 5 그놈은 흑염룡 https://comic.naver.com/webtoon/list.nhn?titleId=733080\n",
      "그놈은 흑염룡 https://comic.naver.com/webtoon/list.nhn?titleId=733080\n",
      "19\n",
      "Writing to thumbnail_IMAG06_94ee2766-873a-4013-b48e-41840edbde25.jpg (21305 bytes)\n",
      "Writing to thumbnail_202x120_909c52f0-c522-454c-9a9e-f593faf94b3c.jpg (33561 bytes)\n",
      "Writing to thumbnail_202x120_b4b72084-cfa2-4012-92c0-26eb55ab9851.jpg (24695 bytes)\n",
      "Writing to thumbnail_202x120_098188eb-53ca-4e47-adfe-ab9d81fc1cad.jpg (31445 bytes)\n",
      "Writing to thumbnail_202x120_a806836a-572e-4d4d-88f7-f49534c4bc9a.jpg (29939 bytes)\n",
      "Writing to thumbnail_202x120_1996f9a0-b75c-494c-a8cb-74653b5bbe81.jpg (25222 bytes)\n",
      "Writing to thumbnail_202x120_a0d79f50-2a66-4ada-8ec4-86aef52c6d28.jpg (27968 bytes)\n",
      "Writing to thumbnail_202x120_8bd54742-56df-457b-bdb8-9db0e2e28085.jpg (33408 bytes)\n",
      "Writing to thumbnail_202x120_c9871ca0-38f0-49d9-8eb0-835590d54f58.jpg (23611 bytes)\n",
      "Writing to thumbnail_202x120_b95bf2ab-60f4-48f5-b1b3-3aefef2edb3c.jpg (23158 bytes)\n"
     ]
    },
    {
     "name": "stdout",
     "output_type": "stream",
     "text": [
      "Writing to thumbnail_202x120_0af9d508-1ca3-4288-ab89-2cff14919f7d.jpg (31744 bytes)\n",
      "Writing to thumbnail_IMAG10_85425026-fd1c-4a8a-8d58-e257bbf892c0.jpg (22743 bytes)\n",
      "Writing to thumbnail_IMAG10_545c2365-1d18-4cd3-afd9-27b161a4c664.jpg (12749 bytes)\n",
      "Writing to thumbnail_IMAG10_b324ec4f-f869-4b55-b2fb-63306bef3a41.jpg (10601 bytes)\n",
      "Writing to thumbnail_IMAG10_69a59ea4-ece8-4454-beea-a730adae236f.jpg (10347 bytes)\n",
      "Writing to thumbnail_IMAG10_1ffbcabb-b5fd-41d8-9500-faaee1d3cbb4.jpg (9410 bytes)\n",
      "Writing to bnr_partnership.jpg (10326 bytes)\n",
      "Writing to bnr_joinus.jpg (17502 bytes)\n",
      "Writing to bnr_careers.jpg (18455 bytes)\n"
     ]
    }
   ],
   "source": [
    "for idx, webtoon in enumerate(webtoon_list):\n",
    "    title = webtoon['title']\n",
    "    detail_link = webtoon['link']\n",
    "    print('-----', idx, title, detail_link)\n",
    "    write_image(title, detail_link)"
   ]
  }
 ],
 "metadata": {
  "kernelspec": {
   "display_name": "Python 3",
   "language": "python",
   "name": "python3"
  },
  "language_info": {
   "codemirror_mode": {
    "name": "ipython",
    "version": 3
   },
   "file_extension": ".py",
   "mimetype": "text/x-python",
   "name": "python",
   "nbconvert_exporter": "python",
   "pygments_lexer": "ipython3",
   "version": "3.7.0"
  }
 },
 "nbformat": 4,
 "nbformat_minor": 2
}
