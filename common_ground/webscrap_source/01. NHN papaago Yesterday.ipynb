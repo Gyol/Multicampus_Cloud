{
 "cells": [
  {
   "cell_type": "markdown",
   "metadata": {},
   "source": [
    "#### data/yesterday.txt 번역\n",
    "* yesterday.txt file읽기\n",
    "* 번역 서비스를 요청해야 하므로 requests로 http 통신\n",
    "* 번역된 결과를 파일로 출력"
   ]
  },
  {
   "cell_type": "code",
   "execution_count": 18,
   "metadata": {},
   "outputs": [
    {
     "name": "stdout",
     "output_type": "stream",
     "text": [
      "['Yesterday all my troubles seemed so far away.', \"Now it looks as though they're here to stay.\", 'Oh, I believe in yesterday.', \"Suddenly I'm not half the man I used to be.\", \"There's a shadow hanging over me.\", 'Oh, yesterday came suddenly.', \"Why she had to go, I don't know, she wouldn't say.\", 'I said something wrong, now I long for yesterday.', 'Yesterday love was such an easy game to play.', 'Now I need a place to hide away.', 'Oh, I believe in yesterday.', \"Why she had to go, I don't know, she wouldn't say.\", 'I said something wrong, now I long for yesterday.', 'Yesterday love was such an easy game to play.', 'Now I need a place to hide away.', 'Oh, I believe in yesterday.', 'Mm mm mm mm mm mm mm'] 17\n",
      "어제 나의 모든 고민들은 너무나 멀리 떨어져 있는 것 같았다.\n",
      "이제 그들은 여기 머물기 위해 온 것처럼 보인다.\n",
      "오, 나는 어제를 다시 그리게 돼.\n",
      "갑자기 나는 예전과 같은 사람이 아니다.\n",
      "내 위에 그림자가 드리워져 있다.\n",
      "아, 어제 갑자기 왔구나.\n",
      "왜 그녀가 가야만 했는지 모르겠다, 그녀는 말하지 않을 것이다.\n",
      "내가 말을 잘못해서 어제가 그립다.\n",
      "어제는 사랑이 정말 쉬운 게임이었다.\n",
      "이제 나는 숨을 곳이 필요해.\n",
      "오, 나는 어제를 다시 그리게 돼.\n",
      "왜 그녀가 가야만 했는지 모르겠다, 그녀는 말하지 않을 것이다.\n",
      "내가 말을 잘못해서 어제가 그립다.\n",
      "어제는 사랑이 정말 쉬운 게임이었다.\n",
      "이제 나는 숨을 곳이 필요해.\n",
      "오, 나는 어제를 다시 그리게 돼.\n",
      "mm mm mm mm mm mm mm mm\n"
     ]
    },
    {
     "ename": "TypeError",
     "evalue": "save_to_file() takes 0 positional arguments but 1 was given",
     "output_type": "error",
     "traceback": [
      "\u001b[1;31m---------------------------------------------------------------------------\u001b[0m",
      "\u001b[1;31mTypeError\u001b[0m                                 Traceback (most recent call last)",
      "\u001b[1;32m<ipython-input-18-39a7276534d7>\u001b[0m in \u001b[0;36m<module>\u001b[1;34m()\u001b[0m\n\u001b[0;32m     61\u001b[0m \u001b[1;33m\u001b[0m\u001b[0m\n\u001b[0;32m     62\u001b[0m \u001b[1;33m\u001b[0m\u001b[0m\n\u001b[1;32m---> 63\u001b[1;33m \u001b[0mmain\u001b[0m\u001b[1;33m(\u001b[0m\u001b[1;33m)\u001b[0m\u001b[1;33m\u001b[0m\u001b[0m\n\u001b[0m",
      "\u001b[1;32m<ipython-input-18-39a7276534d7>\u001b[0m in \u001b[0;36mmain\u001b[1;34m()\u001b[0m\n\u001b[0;32m     57\u001b[0m     \u001b[0mtrans_list\u001b[0m\u001b[1;33m.\u001b[0m\u001b[0mappend\u001b[0m\u001b[1;33m(\u001b[0m\u001b[0mko_txt\u001b[0m\u001b[1;33m+\u001b[0m\u001b[1;34m'\\n'\u001b[0m\u001b[1;33m)\u001b[0m\u001b[1;33m\u001b[0m\u001b[0m\n\u001b[0;32m     58\u001b[0m \u001b[1;33m\u001b[0m\u001b[0m\n\u001b[1;32m---> 59\u001b[1;33m     \u001b[0msave_to_file\u001b[0m\u001b[1;33m(\u001b[0m\u001b[0mtrans_list\u001b[0m\u001b[1;33m)\u001b[0m\u001b[1;33m\u001b[0m\u001b[0m\n\u001b[0m\u001b[0;32m     60\u001b[0m     \u001b[0mprint\u001b[0m\u001b[1;33m(\u001b[0m\u001b[1;34m'번역 종료'\u001b[0m\u001b[1;33m)\u001b[0m\u001b[1;33m\u001b[0m\u001b[0m\n\u001b[0;32m     61\u001b[0m \u001b[1;33m\u001b[0m\u001b[0m\n",
      "\u001b[1;31mTypeError\u001b[0m: save_to_file() takes 0 positional arguments but 1 was given"
     ]
    }
   ],
   "source": [
    "from requests import Request, Session\n",
    "\n",
    "# yesterday.txt 파일 읽기\n",
    "def text_to_list():\n",
    "    result_list = []\n",
    "    with open('data/yesterday.txt', 'r', encoding='utf8') as file:\n",
    "        contents = file.read()\n",
    "        result_list = contents.split('\\n')\n",
    "    return result_list\n",
    "\n",
    "# 번역된 결과 쓰기\n",
    "def save_to_file():\n",
    "    with open('data/yesterday_translated.txt', 'w', encoding='utf8') as file:\n",
    "        file.writelines(mylist)\n",
    "\n",
    "# http 통신\n",
    "def main():\n",
    "    session = Session()\n",
    "    client_id = \"6rtWy9kcKoYWbODYZS75\"\n",
    "    client_secret = \"khTO4PAWKG\"\n",
    "    url = \"https://openapi.naver.com/v1/papago/n2mt\"\n",
    "\n",
    "    # key값으로 연결\n",
    "    req_headers = {\n",
    "        \"X-Naver-Client-Id\":client_id,\n",
    "        \"X-Naver-Client-Secret\":client_secret\n",
    "    }\n",
    "\n",
    "    lyric_list = text_to_list()\n",
    "    # 공백인 줄은 빼놓고 가져오기 위해 list comprehension 사용\n",
    "    lyric_list = [lyric for lyric in lyric_list if len(lyric) != 0]\n",
    "    print(lyric_list, len(lyric_list))\n",
    "    \n",
    "    # for loop 안에 결과를 번역하는 그걸 만들거야\n",
    "    trans_list=[]\n",
    "    \n",
    "    for en_text in lyric_list:\n",
    "        params = {\n",
    "            'source':'en',\n",
    "            'target':'ko',\n",
    "            'text':en_text\n",
    "        }\n",
    "        \n",
    "        req = Request('POST', url, data = params, headers = req_headers)\n",
    "        prepared = req.prepare()\n",
    "        res = session.send(prepared)\n",
    "\n",
    "        \n",
    "        try:\n",
    "            ko_txt = res.json()['message']['result']['translatedText']\n",
    "        except Exeption as err:\n",
    "            print(err)\n",
    "        else:\n",
    "            print(ko_txt)\n",
    "            \n",
    "    trans_list.append(en_text+'\\n')\n",
    "    trans_list.append(ko_txt+'\\n')\n",
    "        \n",
    "    save_to_file(trans_list)\n",
    "    print('번역 종료')\n",
    "\n",
    "\n",
    "main()"
   ]
  },
  {
   "cell_type": "code",
   "execution_count": null,
   "metadata": {},
   "outputs": [],
   "source": []
  },
  {
   "cell_type": "code",
   "execution_count": null,
   "metadata": {},
   "outputs": [],
   "source": []
  },
  {
   "cell_type": "code",
   "execution_count": null,
   "metadata": {},
   "outputs": [],
   "source": []
  }
 ],
 "metadata": {
  "kernelspec": {
   "display_name": "Python 3",
   "language": "python",
   "name": "python3"
  },
  "language_info": {
   "codemirror_mode": {
    "name": "ipython",
    "version": 3
   },
   "file_extension": ".py",
   "mimetype": "text/x-python",
   "name": "python",
   "nbconvert_exporter": "python",
   "pygments_lexer": "ipython3",
   "version": "3.7.0"
  }
 },
 "nbformat": 4,
 "nbformat_minor": 2
}
