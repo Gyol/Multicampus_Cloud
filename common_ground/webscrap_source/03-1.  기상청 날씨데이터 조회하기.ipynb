{
 "cells": [
  {
   "cell_type": "markdown",
   "metadata": {},
   "source": [
    "### 기상청 날씨데이터 조회\n",
    "* find(), find_all() 함수 사용"
   ]
  },
  {
   "cell_type": "code",
   "execution_count": 16,
   "metadata": {},
   "outputs": [
    {
     "name": "stdout",
     "output_type": "stream",
     "text": [
      "기상청 육상 중기예보\n",
      "[<title>기상청 육상 중기예보</title>, <title>전국 육상 중기예보 - 2020년 07월 22일 (수)요일 06:00 발표</title>, <title>전국 육상중기예보</title>]\n",
      "\n",
      "기상청 육상 중기예보\n",
      "전국 육상 중기예보 - 2020년 07월 22일 (수)요일 06:00 발표\n",
      "전국 육상중기예보\n",
      "\n",
      "○ (강수) 25일(토)과 26일(일) 오전, 27일(월) 오후부터 30일(목)까지는 전국(30일 강원영동과 경남, 제주도 제외), 8월 1일(토)은 서울.경기도와 강원영서에 비가 오겠습니다.<br />○ (기온) 이번 예보기간의 낮 기온은 25~32도로 어제(28~32도)와 비슷하겠습니다.<br />○ (해상) 25일(토) 서해상과 남해상은 물결이 2.0~4.0m로 높게 일겠으니, 항해나 조업하는 선박은 유의하기 바랍니다.<br />○ (주말전망) 25일(토)은 대체로 흐리고 전국에 비가 오겠으며, 26일(일) 오전까지 비가 이어지겠습니다.<br />              아침 기온은 20~22도, 낮 기온은 25~29도의 분포를 보이겠습니다.<br /><br />* 이번 예보기간의 강수는 정체전선의 위치와 저기압의 이동경로에 따라 시점과 집중되는 지역이 변경될 가능성이 있으니, 앞으로 발표되는 기상정보를 참고하기 바랍니다.\n"
     ]
    }
   ],
   "source": [
    "import requests\n",
    "from bs4 import BeautifulSoup\n",
    "\n",
    "url = \"http://www.kma.go.kr/weather/forecast/mid-term-rss3.jsp\"\n",
    "\n",
    "res = requests.get(url)\n",
    "html = res.text\n",
    "soup = BeautifulSoup(html, 'html.parser')\n",
    "\n",
    "# print(soup.find('title')) # 이거 하면 <title>기상청 육상 중기예보</title>\n",
    "print(soup.find('title').string)\n",
    "\n",
    "print(soup.find_all('title'))\n",
    "# print(type(soup.find_all('title'))) <class 'bs4.element.ResultSet'>\n",
    "print()\n",
    "for title in soup.find_all('title'):\n",
    "    print(title.text)\n",
    "\n",
    "print()\n",
    "print(soup.find_all('wf')[0].string)"
   ]
  },
  {
   "cell_type": "code",
   "execution_count": 17,
   "metadata": {},
   "outputs": [
    {
     "name": "stdout",
     "output_type": "stream",
     "text": [
      "○ (강수) 25일(토)과 26일(일) 오전, 27일(월) 오후부터 30일(목)까지는 전국(30일 강원영동과 경남, 제주도 제외), 8월 1일(토)은 서울.경기도와 강원영서에 비가 오겠습니다.<br />○ (기온) 이번 예보기간의 낮 기온은 25~32도로 어제(28~32도)와 비슷하겠습니다.<br />○ (해상) 25일(토) 서해상과 남해상은 물결이 2.0~4.0m로 높게 일겠으니, 항해나 조업하는 선박은 유의하기 바랍니다.<br />○ (주말전망) 25일(토)은 대체로 흐리고 전국에 비가 오겠으며, 26일(일) 오전까지 비가 이어지겠습니다.<br />              아침 기온은 20~22도, 낮 기온은 25~29도의 분포를 보이겠습니다.<br /><br />* 이번 예보기간의 강수는 정체전선의 위치와 저기압의 이동경로에 따라 시점과 집중되는 지역이 변경될 가능성이 있으니, 앞으로 발표되는 기상정보를 참고하기 바랍니다.\n"
     ]
    }
   ],
   "source": [
    "for tag in soup.find_all('header'):\n",
    "    print(tag.find('wf').string)"
   ]
  },
  {
   "cell_type": "code",
   "execution_count": 74,
   "metadata": {},
   "outputs": [
    {
     "name": "stdout",
     "output_type": "stream",
     "text": [
      "서울ㆍ인천ㆍ경기도\n",
      "서울\n",
      "\n",
      "서울\n",
      "----\n",
      "<city>서울</city>\n",
      "[<city>서울</city>, <city>인천</city>, <city>수원</city>, <city>파주</city>, <city>이천</city>, <city>평택</city>, <city>춘천</city>, <city>원주</city>, <city>강릉</city>, <city>대전</city>, <city>세종</city>, <city>홍성</city>, <city>청주</city>, <city>충주</city>, <city>영동</city>, <city>광주</city>, <city>목포</city>, <city>여수</city>, <city>순천</city>, <city>광양</city>, <city>나주</city>, <city>전주</city>, <city>군산</city>, <city>정읍</city>, <city>남원</city>, <city>고창</city>, <city>무주</city>, <city>부산</city>, <city>울산</city>, <city>창원</city>, <city>진주</city>, <city>거창</city>, <city>통영</city>, <city>대구</city>, <city>안동</city>, <city>포항</city>, <city>경주</city>, <city>울진</city>, <city>울릉도</city>, <city>제주</city>, <city>서귀포</city>]\n"
     ]
    }
   ],
   "source": [
    "title = soup.find('location', attrs={'wl_ver':'3'}).find('province').text\n",
    "city = soup.find('location', attrs={'wl_ver':'3'}).find('city').text\n",
    "# 여기서 서울만 했기때문에 location find를 했지만 전국을 하려면 find_all해야해\n",
    "\n",
    "print(title)\n",
    "print(city)\n",
    "print()\n",
    "print(soup.select('city')[0].text)\n",
    "print('----')\n",
    "print(soup.find_all('city')[0])\n",
    "print(soup.find_all('city'))"
   ]
  },
  {
   "cell_type": "code",
   "execution_count": 68,
   "metadata": {},
   "outputs": [
    {
     "name": "stdout",
     "output_type": "stream",
     "text": [
      "A02\n",
      "2020-07-25 00:00\n",
      "구름많고 비\n",
      "---\n",
      "A02\n",
      "2020-07-25 12:00\n",
      "구름많고 비\n",
      "---\n",
      "A02\n",
      "2020-07-26 00:00\n",
      "구름많고 비\n",
      "---\n",
      "A02\n",
      "2020-07-26 12:00\n",
      "흐림\n",
      "---\n",
      "A02\n",
      "2020-07-27 00:00\n",
      "흐림\n",
      "---\n",
      "A02\n",
      "2020-07-27 12:00\n",
      "흐리고 비\n",
      "---\n",
      "A02\n",
      "2020-07-28 00:00\n",
      "흐리고 비\n",
      "---\n",
      "A02\n",
      "2020-07-28 12:00\n",
      "흐리고 비\n",
      "---\n",
      "A02\n",
      "2020-07-29 00:00\n",
      "흐리고 비\n",
      "---\n",
      "A02\n",
      "2020-07-29 12:00\n",
      "흐리고 비\n",
      "---\n",
      "A01\n",
      "2020-07-30 00:00\n",
      "흐리고 비\n",
      "---\n",
      "A01\n",
      "2020-07-31 00:00\n",
      "흐림\n",
      "---\n",
      "A01\n",
      "2020-08-01 00:00\n",
      "흐리고 비\n",
      "---\n"
     ]
    }
   ],
   "source": [
    "data_tags = soup.find('location', attrs={'wl_ver':'3'}).find_all('data')\n",
    "# print(len(data_tags), data_tags)\n",
    "for data in data_tags:\n",
    "    # print(type(data))\n",
    "    print(data.find('mode').text)\n",
    "    print(data.find('tmef').text)\n",
    "    print(data.find('wf').text)\n",
    "    print('---')"
   ]
  },
  {
   "cell_type": "code",
   "execution_count": 67,
   "metadata": {},
   "outputs": [
    {
     "name": "stdout",
     "output_type": "stream",
     "text": [
      "구름많고 비\n",
      "min: 22\n",
      "max: 29\n",
      "hum: 60\n",
      "---\n",
      "구름많고 비\n",
      "min: 22\n",
      "max: 29\n",
      "hum: 70\n",
      "---\n",
      "구름많고 비\n",
      "min: 21\n",
      "max: 29\n",
      "hum: 70\n",
      "---\n",
      "흐림\n",
      "min: 21\n",
      "max: 29\n",
      "hum: 40\n",
      "---\n",
      "흐림\n",
      "min: 22\n",
      "max: 29\n",
      "hum: 40\n",
      "---\n",
      "흐리고 비\n",
      "min: 22\n",
      "max: 29\n",
      "hum: 90\n",
      "---\n",
      "흐리고 비\n",
      "min: 22\n",
      "max: 28\n",
      "hum: 70\n",
      "---\n",
      "흐리고 비\n",
      "min: 22\n",
      "max: 28\n",
      "hum: 60\n",
      "---\n",
      "흐리고 비\n",
      "min: 23\n",
      "max: 29\n",
      "hum: 60\n",
      "---\n",
      "흐리고 비\n",
      "min: 23\n",
      "max: 29\n",
      "hum: 60\n",
      "---\n",
      "흐리고 비\n",
      "min: 23\n",
      "max: 30\n",
      "hum: 80\n",
      "---\n",
      "흐림\n",
      "min: 23\n",
      "max: 29\n",
      "hum: 40\n",
      "---\n",
      "흐리고 비\n",
      "min: 23\n",
      "max: 28\n",
      "hum: 80\n",
      "---\n"
     ]
    }
   ],
   "source": [
    "data_tags = soup.find('location', attrs={'wl_ver':'3'}).find_all('data')\n",
    "for data in data_tags:\n",
    "    print(data.find('wf').text)\n",
    "    print('min:', data.find('tmn').text)\n",
    "    print('max:', data.find('tmx').text)\n",
    "    print('hum:', data.find('rnst').text)\n",
    "    print('---')"
   ]
  },
  {
   "cell_type": "code",
   "execution_count": 102,
   "metadata": {},
   "outputs": [
    {
     "name": "stdout",
     "output_type": "stream",
     "text": [
      "서울 인천 수원 파주 이천 평택 춘천 원주 강릉 대전 세종 홍성 청주 충주 영동 광주 목포 여수 순천 광양 나주 전주 군산 정읍 남원 고창 무주 부산 울산 창원 진주 거창 통영 대구 안동 포항 경주 울진 울릉도 제주 서귀포 "
     ]
    }
   ],
   "source": [
    "# print(type(soup.find('city').text))\n",
    "# print(type(soup.find_all('city')))\n",
    "a = soup.find_all('city')\n",
    "\n",
    "for city in a:\n",
    "    print(city.text, end=' ')"
   ]
  },
  {
   "cell_type": "code",
   "execution_count": 169,
   "metadata": {},
   "outputs": [
    {
     "name": "stdout",
     "output_type": "stream",
     "text": [
      "서울ㆍ인천ㆍ경기도/서울ㆍ인천ㆍ경기도/서울ㆍ인천ㆍ경기도/서울ㆍ인천ㆍ경기도/서울ㆍ인천ㆍ경기도/서울ㆍ인천ㆍ경기도/강원도영서/강원도영서/강원도영동/대전ㆍ세종ㆍ충청남도/대전ㆍ세종ㆍ충청남도/대전ㆍ세종ㆍ충청남도/충청북도/충청북도/충청북도/광주ㆍ전라남도/광주ㆍ전라남도/광주ㆍ전라남도/광주ㆍ전라남도/광주ㆍ전라남도/광주ㆍ전라남도/전라북도/전라북도/전라북도/전라북도/전라북도/전라북도/부산ㆍ울산ㆍ경상남도/부산ㆍ울산ㆍ경상남도/부산ㆍ울산ㆍ경상남도/부산ㆍ울산ㆍ경상남도/부산ㆍ울산ㆍ경상남도/부산ㆍ울산ㆍ경상남도/대구ㆍ경상북도/대구ㆍ경상북도/대구ㆍ경상북도/대구ㆍ경상북도/대구ㆍ경상북도/대구ㆍ경상북도/제주도/제주도/"
     ]
    }
   ],
   "source": [
    "b = soup.find_all('province')\n",
    "\n",
    "for prov in b:\n",
    "    print(prov.text, end='/')"
   ]
  },
  {
   "cell_type": "code",
   "execution_count": 183,
   "metadata": {},
   "outputs": [
    {
     "name": "stdout",
     "output_type": "stream",
     "text": [
      "['서울ㆍ인천ㆍ경기도', '강원도영서', '강원도영동', '대전ㆍ세종ㆍ충청남도', '충청북도', '광주ㆍ전라남도', '전라북도', '부산ㆍ울산ㆍ경상남도', '대구ㆍ경상북도', '제주도']\n",
      "구역 no. 1 : 서울ㆍ인천ㆍ경기도\n",
      "구역 no. 2 : 강원도영서\n",
      "구역 no. 3 : 강원도영동\n",
      "구역 no. 4 : 대전ㆍ세종ㆍ충청남도\n",
      "구역 no. 5 : 충청북도\n",
      "구역 no. 6 : 광주ㆍ전라남도\n",
      "구역 no. 7 : 전라북도\n",
      "구역 no. 8 : 부산ㆍ울산ㆍ경상남도\n",
      "구역 no. 9 : 대구ㆍ경상북도\n",
      "구역 no. 10 : 제주도\n"
     ]
    }
   ],
   "source": [
    "b = soup.find_all('province')\n",
    "newlist = []\n",
    "\n",
    "for prov in b:\n",
    "    if prov.text not in newlist:\n",
    "        newlist.append(prov.text)\n",
    "print(newlist)\n",
    "\n",
    "no = 1\n",
    "\n",
    "for i in newlist:\n",
    "    print('구역 no.', no, ':', i)\n",
    "    no += 1"
   ]
  },
  {
   "cell_type": "code",
   "execution_count": 185,
   "metadata": {},
   "outputs": [
    {
     "name": "stdout",
     "output_type": "stream",
     "text": [
      "[<data>\n",
      "<mode>A02</mode>\n",
      "<tmef>2020-07-25 00:00</tmef>\n",
      "<wf>구름많고 비</wf>\n",
      "<tmn>22</tmn>\n",
      "<tmx>29</tmx>\n",
      "<reliability></reliability>\n",
      "<rnst>60</rnst>\n",
      "</data>, <data>\n",
      "<mode>A02</mode>\n",
      "<tmef>2020-07-25 12:00</tmef>\n",
      "<wf>구름많고 비</wf>\n",
      "<tmn>22</tmn>\n",
      "<tmx>29</tmx>\n",
      "<reliability></reliability>\n",
      "<rnst>70</rnst>\n",
      "</data>, <data>\n",
      "<mode>A02</mode>\n",
      "<tmef>2020-07-26 00:00</tmef>\n",
      "<wf>구름많고 비</wf>\n",
      "<tmn>21</tmn>\n",
      "<tmx>29</tmx>\n",
      "<reliability></reliability>\n",
      "<rnst>70</rnst>\n",
      "</data>, <data>\n",
      "<mode>A02</mode>\n",
      "<tmef>2020-07-26 12:00</tmef>\n",
      "<wf>흐림</wf>\n",
      "<tmn>21</tmn>\n",
      "<tmx>29</tmx>\n",
      "<reliability></reliability>\n",
      "<rnst>40</rnst>\n",
      "</data>, <data>\n",
      "<mode>A02</mode>\n",
      "<tmef>2020-07-27 00:00</tmef>\n",
      "<wf>흐림</wf>\n",
      "<tmn>22</tmn>\n",
      "<tmx>29</tmx>\n",
      "<reliability></reliability>\n",
      "<rnst>40</rnst>\n",
      "</data>, <data>\n",
      "<mode>A02</mode>\n",
      "<tmef>2020-07-27 12:00</tmef>\n",
      "<wf>흐리고 비</wf>\n",
      "<tmn>22</tmn>\n",
      "<tmx>29</tmx>\n",
      "<reliability></reliability>\n",
      "<rnst>90</rnst>\n",
      "</data>, <data>\n",
      "<mode>A02</mode>\n",
      "<tmef>2020-07-28 00:00</tmef>\n",
      "<wf>흐리고 비</wf>\n",
      "<tmn>22</tmn>\n",
      "<tmx>28</tmx>\n",
      "<reliability></reliability>\n",
      "<rnst>70</rnst>\n",
      "</data>, <data>\n",
      "<mode>A02</mode>\n",
      "<tmef>2020-07-28 12:00</tmef>\n",
      "<wf>흐리고 비</wf>\n",
      "<tmn>22</tmn>\n",
      "<tmx>28</tmx>\n",
      "<reliability></reliability>\n",
      "<rnst>60</rnst>\n",
      "</data>, <data>\n",
      "<mode>A02</mode>\n",
      "<tmef>2020-07-29 00:00</tmef>\n",
      "<wf>흐리고 비</wf>\n",
      "<tmn>23</tmn>\n",
      "<tmx>29</tmx>\n",
      "<reliability></reliability>\n",
      "<rnst>60</rnst>\n",
      "</data>, <data>\n",
      "<mode>A02</mode>\n",
      "<tmef>2020-07-29 12:00</tmef>\n",
      "<wf>흐리고 비</wf>\n",
      "<tmn>23</tmn>\n",
      "<tmx>29</tmx>\n",
      "<reliability></reliability>\n",
      "<rnst>60</rnst>\n",
      "</data>, <data>\n",
      "<mode>A01</mode>\n",
      "<tmef>2020-07-30 00:00</tmef>\n",
      "<wf>흐리고 비</wf>\n",
      "<tmn>23</tmn>\n",
      "<tmx>30</tmx>\n",
      "<reliability></reliability>\n",
      "<rnst>80</rnst>\n",
      "</data>, <data>\n",
      "<mode>A01</mode>\n",
      "<tmef>2020-07-31 00:00</tmef>\n",
      "<wf>흐림</wf>\n",
      "<tmn>23</tmn>\n",
      "<tmx>29</tmx>\n",
      "<reliability></reliability>\n",
      "<rnst>40</rnst>\n",
      "</data>, <data>\n",
      "<mode>A01</mode>\n",
      "<tmef>2020-08-01 00:00</tmef>\n",
      "<wf>흐리고 비</wf>\n",
      "<tmn>23</tmn>\n",
      "<tmx>28</tmx>\n",
      "<reliability></reliability>\n",
      "<rnst>80</rnst>\n",
      "</data>]\n"
     ]
    }
   ],
   "source": [
    "data_tags = soup.find('location', attrs={'wl_ver':'3'}).find_all('data')\n",
    "# print(data_tags)\n",
    "# [<data>\n",
    "# <mode>A02</mode>\n",
    "# <tmef>2020-07-25 00:00</tmef>\n",
    "# <wf>구름많고 비</wf>\n",
    "# <tmn>22</tmn>\n",
    "# <tmx>29</tmx>\n",
    "\n"
   ]
  },
  {
   "cell_type": "code",
   "execution_count": null,
   "metadata": {},
   "outputs": [],
   "source": []
  },
  {
   "cell_type": "code",
   "execution_count": null,
   "metadata": {},
   "outputs": [],
   "source": []
  },
  {
   "cell_type": "code",
   "execution_count": null,
   "metadata": {},
   "outputs": [],
   "source": []
  },
  {
   "cell_type": "code",
   "execution_count": null,
   "metadata": {},
   "outputs": [],
   "source": []
  },
  {
   "cell_type": "code",
   "execution_count": null,
   "metadata": {},
   "outputs": [],
   "source": []
  },
  {
   "cell_type": "code",
   "execution_count": null,
   "metadata": {},
   "outputs": [],
   "source": []
  },
  {
   "cell_type": "code",
   "execution_count": null,
   "metadata": {},
   "outputs": [],
   "source": []
  },
  {
   "cell_type": "code",
   "execution_count": null,
   "metadata": {},
   "outputs": [],
   "source": []
  }
 ],
 "metadata": {
  "kernelspec": {
   "display_name": "Python 3",
   "language": "python",
   "name": "python3"
  },
  "language_info": {
   "codemirror_mode": {
    "name": "ipython",
    "version": 3
   },
   "file_extension": ".py",
   "mimetype": "text/x-python",
   "name": "python",
   "nbconvert_exporter": "python",
   "pygments_lexer": "ipython3",
   "version": "3.7.0"
  }
 },
 "nbformat": 4,
 "nbformat_minor": 2
}
