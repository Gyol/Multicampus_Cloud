{
 "cells": [
  {
   "cell_type": "markdown",
   "metadata": {},
   "source": [
    "### 기상청 날씨 데이터 조회\n",
    "* find(), find_all() 함수 사용"
   ]
  },
  {
   "cell_type": "code",
   "execution_count": 12,
   "metadata": {},
   "outputs": [
    {
     "name": "stdout",
     "output_type": "stream",
     "text": [
      "기상청 육상 중기예보\n",
      "[<title>기상청 육상 중기예보</title>, <title>전국 육상 중기예보 - 2020년 07월 22일 (수)요일 06:00 발표</title>, <title>전국 육상중기예보</title>]\n",
      "기상청 육상 중기예보\n",
      "전국 육상 중기예보 - 2020년 07월 22일 (수)요일 06:00 발표\n",
      "전국 육상중기예보\n",
      "○ (강수) 25일(토)과 26일(일) 오전, 27일(월) 오후부터 30일(목)까지는 전국(30일 강원영동과 경남, 제주도 제외), 8월 1일(토)은 서울.경기도와 강원영서에 비가 오겠습니다.<br />○ (기온) 이번 예보기간의 낮 기온은 25~32도로 어제(28~32도)와 비슷하겠습니다.<br />○ (해상) 25일(토) 서해상과 남해상은 물결이 2.0~4.0m로 높게 일겠으니, 항해나 조업하는 선박은 유의하기 바랍니다.<br />○ (주말전망) 25일(토)은 대체로 흐리고 전국에 비가 오겠으며, 26일(일) 오전까지 비가 이어지겠습니다.<br />              아침 기온은 20~22도, 낮 기온은 25~29도의 분포를 보이겠습니다.<br /><br />* 이번 예보기간의 강수는 정체전선의 위치와 저기압의 이동경로에 따라 시점과 집중되는 지역이 변경될 가능성이 있으니, 앞으로 발표되는 기상정보를 참고하기 바랍니다.\n"
     ]
    }
   ],
   "source": [
    "import requests\n",
    "from bs4 import BeautifulSoup\n",
    "\n",
    "url = \"http://www.kma.go.kr/weather/forecast/mid-term-rss3.jsp\"\n",
    "\n",
    "res = requests.get(url)\n",
    "html = res.text\n",
    "soup = BeautifulSoup(html,'html.parser')\n",
    "\n",
    "print(soup.find('title').string)\n",
    "print(soup.find_all('title'))\n",
    "for title in soup.find_all('title'):\n",
    "    print(title.text)\n",
    "    \n",
    "print(soup.find('wf').string)   \n",
    "#for tag in "
   ]
  },
  {
   "cell_type": "code",
   "execution_count": 15,
   "metadata": {},
   "outputs": [
    {
     "name": "stdout",
     "output_type": "stream",
     "text": [
      "<header>\n",
      "<title>전국 육상중기예보</title>\n",
      "<tm>202007220600</tm>\n",
      "<wf><![CDATA[○ (강수) 25일(토)과 26일(일) 오전, 27일(월) 오후부터 30일(목)까지는 전국(30일 강원영동과 경남, 제주도 제외), 8월 1일(토)은 서울.경기도와 강원영서에 비가 오겠습니다.<br />○ (기온) 이번 예보기간의 낮 기온은 25~32도로 어제(28~32도)와 비슷하겠습니다.<br />○ (해상) 25일(토) 서해상과 남해상은 물결이 2.0~4.0m로 높게 일겠으니, 항해나 조업하는 선박은 유의하기 바랍니다.<br />○ (주말전망) 25일(토)은 대체로 흐리고 전국에 비가 오겠으며, 26일(일) 오전까지 비가 이어지겠습니다.<br />              아침 기온은 20~22도, 낮 기온은 25~29도의 분포를 보이겠습니다.<br /><br />* 이번 예보기간의 강수는 정체전선의 위치와 저기압의 이동경로에 따라 시점과 집중되는 지역이 변경될 가능성이 있으니, 앞으로 발표되는 기상정보를 참고하기 바랍니다.]]></wf>\n",
      "</header>\n",
      "○ (강수) 25일(토)과 26일(일) 오전, 27일(월) 오후부터 30일(목)까지는 전국(30일 강원영동과 경남, 제주도 제외), 8월 1일(토)은 서울.경기도와 강원영서에 비가 오겠습니다.<br />○ (기온) 이번 예보기간의 낮 기온은 25~32도로 어제(28~32도)와 비슷하겠습니다.<br />○ (해상) 25일(토) 서해상과 남해상은 물결이 2.0~4.0m로 높게 일겠으니, 항해나 조업하는 선박은 유의하기 바랍니다.<br />○ (주말전망) 25일(토)은 대체로 흐리고 전국에 비가 오겠으며, 26일(일) 오전까지 비가 이어지겠습니다.<br />              아침 기온은 20~22도, 낮 기온은 25~29도의 분포를 보이겠습니다.<br /><br />* 이번 예보기간의 강수는 정체전선의 위치와 저기압의 이동경로에 따라 시점과 집중되는 지역이 변경될 가능성이 있으니, 앞으로 발표되는 기상정보를 참고하기 바랍니다.\n"
     ]
    }
   ],
   "source": [
    "for tag in soup.find_all('header'):\n",
    "    print(tag)\n",
    "    print(tag.find('wf').string)"
   ]
  },
  {
   "cell_type": "code",
   "execution_count": 19,
   "metadata": {},
   "outputs": [
    {
     "name": "stdout",
     "output_type": "stream",
     "text": [
      "서울ㆍ인천ㆍ경기도 서울\n"
     ]
    }
   ],
   "source": [
    "title = soup.find('location',attrs={'wl_ver':'3'}).find('province').text\n",
    "city = soup.find('location',attrs={'wl_ver':'3'}).find('city').text\n",
    "print(title, city)"
   ]
  },
  {
   "cell_type": "code",
   "execution_count": 28,
   "metadata": {},
   "outputs": [
    {
     "name": "stdout",
     "output_type": "stream",
     "text": [
      "13\n",
      "A02\n",
      "구름많고 비\n",
      "------\n",
      "A02\n",
      "구름많고 비\n",
      "------\n",
      "A02\n",
      "구름많고 비\n",
      "------\n",
      "A02\n",
      "흐림\n",
      "------\n",
      "A02\n",
      "흐림\n",
      "------\n",
      "A02\n",
      "흐리고 비\n",
      "------\n",
      "A02\n",
      "흐리고 비\n",
      "------\n",
      "A02\n",
      "흐리고 비\n",
      "------\n",
      "A02\n",
      "흐리고 비\n",
      "------\n",
      "A02\n",
      "흐리고 비\n",
      "------\n",
      "A01\n",
      "흐리고 비\n",
      "------\n",
      "A01\n",
      "흐림\n",
      "------\n",
      "A01\n",
      "흐리고 비\n",
      "------\n"
     ]
    }
   ],
   "source": [
    "# 1개의 data는 dict에 저장하고, dict를 list에 저장한다.\n",
    "# 리스트 출력하기\n",
    "data_tags = soup.find('location',attrs={'wl_ver':'3'}).find_all('data')\n",
    "print(len(data_tags))\n",
    "for data in data_tags:\n",
    "    #print(type(data))\n",
    "    #  mode, wf, tmn, tmx\n",
    "    print(data.find('mode').text)\n",
    "    print(data.find('wf').text)\n",
    "    print('------')"
   ]
  }
 ],
 "metadata": {
  "kernelspec": {
   "display_name": "Python 3",
   "language": "python",
   "name": "python3"
  },
  "language_info": {
   "codemirror_mode": {
    "name": "ipython",
    "version": 3
   },
   "file_extension": ".py",
   "mimetype": "text/x-python",
   "name": "python",
   "nbconvert_exporter": "python",
   "pygments_lexer": "ipython3",
   "version": "3.7.0"
  }
 },
 "nbformat": 4,
 "nbformat_minor": 2
}
