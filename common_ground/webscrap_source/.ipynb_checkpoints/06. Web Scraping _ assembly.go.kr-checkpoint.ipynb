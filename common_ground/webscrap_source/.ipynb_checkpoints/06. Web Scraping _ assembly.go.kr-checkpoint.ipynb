{
 "cells": [
  {
   "cell_type": "markdown",
   "metadata": {},
   "source": [
    "#### 국회의원 정보 스크래핑\n",
    "* 국회의원 이름, 국회의원 id 추출\n",
    "* 국회의원 상세 페이지에 300번 요청을 보내서 상세정보 추출\n",
    "* pandas DataFrame에 저장\n",
    "* 시각화: 막대그래프, 히스토그램, 파이차트\n",
    "* DB에 members 테이블에 저장"
   ]
  },
  {
   "cell_type": "code",
   "execution_count": 3,
   "metadata": {},
   "outputs": [
    {
     "name": "stdout",
     "output_type": "stream",
     "text": [
      "300\n"
     ]
    }
   ],
   "source": [
    "import requests\n",
    "from bs4 import BeautifulSoup\n",
    "import re # 정규표현식 쓸거면 이거 import해주세여\n",
    "\n",
    "url = 'https://www.assembly.go.kr/assm/memact/congressman/memCond/memCondListAjax.do?currentPage=1&rowPerPage=300'\n",
    "\n",
    "html = requests.get(url).text\n",
    "soup = BeautifulSoup(html, 'html.parser')\n",
    "\n",
    "atag_list = soup.select('.memberna_list dl dt a') # .은 class라 붙였고 edit attribute 해서 긁어온거양\n",
    "# print(len(atag_list) # 찍어보면 깔끔하게 딱 300개 나오네"
   ]
  },
  {
   "cell_type": "code",
   "execution_count": 17,
   "metadata": {},
   "outputs": [
    {
     "name": "stdout",
     "output_type": "stream",
     "text": [
      "['9771230', '9771142', '9771174', '9771233', '9771283', '9770933', '9771116', '9771276', '9771168', '9771007', '9771109', '9771180', '9770931', '9770956', '9771224', '9771165', '9770679', '9771108', '9770977', '9771259', '9770998', '9770927', '9771258', '9770712', '9771152', '9771164', '9771181', '9770719', '9770997', '9771136', '9770723', '9771120', '9771173', '9770941', '9770984', '9771285', '9771268', '9770725', '9770527', '9771024', '9771195', '9770985', '9771208', '9771089', '9771210', '9771220', '9771144', '9771169', '9771111', '9771225', '9770975', '9770981', '9770934', '9771249', '9771186', '9771147', '9771127', '9771214', '9771206', '9771171', '9771023', '9771090', '9771009', '9771192', '9771281', '9770982', '9770986', '9770741', '9771237', '9770742', '9770991', '9771223', '9771270', '9771216', '9771134', '9771228', '9770752', '9770753', '9770755', '9771141', '9771274', '9771091', '9771187', '9771204', '9771175', '9771159', '9770764', '9770911', '9771248', '9770767', '9770768', '9770770', '9770090', '9771193', '9771163', '9771107', '9770944', '9771135', '9771162', '9771030', '9770774', '9770929', '9770950', '9770995', '9770932', '9771125', '9770963', '9771226', '9770779', '9771148', '9771277', '9771128', '9771137', '9770980', '9770356', '9771218', '9771166', '9771133', '9771092', '9770784', '9771176', '9771236', '9771254', '9770786', '9771008', '9771217', '9770999', '9771093', '9771001', '9770996', '9771094', '9770967', '9771058', '9771238', '9770968', '9771209', '9771246', '9771219', '9771257', '9770869', '9770587', '9770372', '9771132', '9771017', '9771273', '9771143', '9771178', '9771287', '9771271', '9771155', '9771010', '9771202', '9771113', '9771172', '9771037', '9771261', '9770871', '9770872', '9771038', '9771126', '9771121', '9770966', '9771199', '9770912', '9771266', '9771118', '9770808', '9771227', '9771263', '9770598', '9771153', '9770811', '9771170', '9771221', '9770812', '9771239', '9771212', '9771240', '9771032', '9770876', '9770813', '9771123', '9770905', '9771198', '9771191', '9771106', '9771232', '9771260', '9771028', '9770602', '9771154', '9770414', '9771207', '9771098', '9771151', '9771185', '9771284', '9771269', '9771003', '9771251', '9771255', '9771158', '9771115', '9771184', '9771015', '9770826', '9771213', '9771278', '9770878', '9771201', '9771060', '9771205', '9770914', '9771242', '9771138', '9770835', '9771002', '9771190', '9771280', '9770836', '9771129', '9770837', '9771157', '9770839', '9771177', '9771041', '9771000', '9771203', '9771110', '9770954', '9771160', '9771275', '9771139', '9771272', '9770951', '9771253', '9770846', '9770926', '9771245', '9771140', '9770881', '9771012', '9771150', '9771103', '9771200', '9771006', '9771189', '9771114', '9771068', '9771122', '9771264', '9771229', '9770450', '9771247', '9771243', '9770973', '9771156', '9770990', '9770456', '9771262', '9771244', '9771235', '9771215', '9770883', '9771250', '9770852', '9771117', '9771112', '9771282', '9771119', '9771252', '9771279', '9770952', '9771188', '9771194', '9771231', '9771267', '9770962', '9771286', '9771234', '9770858', '9771197', '9771241', '9771211', '9770859', '9771182', '9771196', '9771256', '9771149', '9771179', '9770886', '9771146', '9771167', '9770676', '9770864', '9771183', '9771145', '9771130', '9771161', '9770936'] -\n"
     ]
    }
   ],
   "source": [
    "id_list = list()\n",
    "\n",
    "for idx, atag in enumerate (atag_list, 1):\n",
    "#    print(atag.text)\n",
    "    name = atag.text\n",
    "    link = atag['href']\n",
    "#    print(name, link)\n",
    "    matched = re.search(r\"(\\d+)\", link)\n",
    "#    print(matched.group(0), matched.group(1)) # 이거 하면 9771230 9771230 이런식으로 나와\n",
    "    member_id = matched.group(0)\n",
    "#     print(idx, '.', name, member_id) # 이거 하면 1 . 강기윤 9771230 이런식\n",
    "    id_list.append(member_id)\n",
    "print(id_list, '-')"
   ]
  },
  {
   "cell_type": "code",
   "execution_count": 22,
   "metadata": {},
   "outputs": [
    {
     "name": "stdout",
     "output_type": "stream",
     "text": [
      "<div class=\"profile\">\n",
      "<h4>강기윤</h4>\n",
      "<ul>\n",
      "<li class=\"photo\">\n",
      "<img alt=\"강기윤 의원사진\" src=\"/photo/9771230.jpg\"/>\n",
      "</li>\n",
      "<li>\n",
      "\t\t\t\t\t\t\t\t\t\t\t\t\t\t\t\t\t\t\t\t\t\t\t\t\t(姜起潤)\n",
      "\t\t\t\t\t\t\t\t\t\t\t\t\t\t\t\t</li>\n",
      "<li>KANG GIYUN</li>\n",
      "<li>1960-06-04</li>\n",
      "</ul>\n",
      "</div>\n",
      "<div class=\"profile\">\n",
      "<h4>강대식</h4>\n",
      "<ul>\n",
      "<li class=\"photo\">\n",
      "<img alt=\"강대식 의원사진\" src=\"/photo/9771142.jpg\"/>\n",
      "</li>\n",
      "<li>\n",
      "\t\t\t\t\t\t\t\t\t\t\t\t\t\t\t\t\t\t\t\t\t\t\t\t\t(姜大植)\n",
      "\t\t\t\t\t\t\t\t\t\t\t\t\t\t\t\t</li>\n",
      "<li>KANG DAESIK</li>\n",
      "<li>1959-11-02</li>\n",
      "</ul>\n",
      "</div>\n"
     ]
    }
   ],
   "source": [
    "import requests\n",
    "from bs4 import BeautifulSoup\n",
    "import re\n",
    "from urllib.parse import urljoin\n",
    "\n",
    "for idx, id in enumerate(id_list[0:2], 1):\n",
    "    detail_url = f'https://www.assembly.go.kr/assm/memPop/memPopup.do?dept_cd={id}'\n",
    "#     print(idx, detail_url) # 이거 하면 1 https://www.assembly.go.kr/assm/memPop/memPopup.do?dept_cd=9771230\n",
    "    html = requests.get(detail_url).text\n",
    "    soup = BeautifulSoup(html, 'html.parser')\n",
    "    \n",
    "    for div_tag in soup.select('.info_mna .profile'):\n",
    "        print(div_tag)\n",
    "\n",
    "# 이거 보고 원하는 데이터가 몇 번째 li인지 파악해봐"
   ]
  },
  {
   "cell_type": "code",
   "execution_count": 25,
   "metadata": {},
   "outputs": [
    {
     "name": "stdout",
     "output_type": "stream",
     "text": [
      "1 https://www.assembly.go.kr/assm/memPop/memPopup.do?dept_cd=9771230\n",
      "[<h4>강기윤</h4>]\n",
      "2 https://www.assembly.go.kr/assm/memPop/memPopup.do?dept_cd=9771142\n",
      "[<h4>강대식</h4>]\n"
     ]
    }
   ],
   "source": [
    "for idx, id in enumerate(id_list[0:2], 1):\n",
    "    detail_url = f'https://www.assembly.go.kr/assm/memPop/memPopup.do?dept_cd={id}'\n",
    "    html = requests.get(detail_url).text\n",
    "    soup = BeautifulSoup(html, 'html.parser')\n",
    "    print(idx, detail_url)\n",
    "    \n",
    "    for div_tag in soup.select('.info_mna .profile'):\n",
    "        name = div_tag.select('h4')[0].text\n",
    "#        print(name) #강기윤 강대식\n",
    "        print(div_tag.select('h4'))"
   ]
  },
  {
   "cell_type": "code",
   "execution_count": 28,
   "metadata": {},
   "outputs": [
    {
     "name": "stdout",
     "output_type": "stream",
     "text": [
      "1 https://www.assembly.go.kr/assm/memPop/memPopup.do?dept_cd=9771230\n",
      "https://www.assembly.go.kr/photo/9771230.jpg\n",
      "2 https://www.assembly.go.kr/assm/memPop/memPopup.do?dept_cd=9771142\n",
      "https://www.assembly.go.kr/photo/9771142.jpg\n"
     ]
    }
   ],
   "source": [
    "for idx, id in enumerate(id_list[0:2], 1):\n",
    "    detail_url = f'https://www.assembly.go.kr/assm/memPop/memPopup.do?dept_cd={id}'\n",
    "    html = requests.get(detail_url).text\n",
    "    soup = BeautifulSoup(html, 'html.parser')\n",
    "    print(idx, detail_url)\n",
    "    \n",
    "    for div_tag in soup.select('.info_mna .profile'):\n",
    "        name = div_tag.select('h4')[0].text\n",
    "        img_url = div_tag.find('img').attrs['src']\n",
    "#         print(img_url) \n",
    "#         1 https://www.assembly.go.kr/assm/memPop/memPopup.do?dept_cd=9771230 # 절대path\n",
    "#         /photo/9771230.jpg # 상대path\n",
    "        full_url = urljoin(detail_url, img_url)\n",
    "        print(full_url)"
   ]
  },
  {
   "cell_type": "code",
   "execution_count": 30,
   "metadata": {},
   "outputs": [
    {
     "name": "stdout",
     "output_type": "stream",
     "text": [
      "강기윤 1960-06-04\n",
      "강대식 1959-11-02\n"
     ]
    }
   ],
   "source": [
    "# <div class=\"profile\">\n",
    "# <h4>강기윤</h4>\n",
    "# <ul>\n",
    "# <li class=\"photo\">\n",
    "# <img alt=\"강기윤 의원사진\" src=\"/photo/9771230.jpg\"/>\n",
    "# </li>\n",
    "# <li>\n",
    "# \t\t\t\t\t\t\t\t\t\t\t\t\t\t\t\t\t\t\t\t\t\t\t\t\t(姜起潤)\n",
    "# \t\t\t\t\t\t\t\t\t\t\t\t\t\t\t\t</li>\n",
    "# <li>KANG GIYUN</li>\n",
    "# <li>1960-06-04</li>\n",
    "# </ul>\n",
    "# </div>\n",
    "# 이렇게 되어있었잖아 그중에 생년월일이 4번째 li잖아\n",
    "\n",
    "for idx, id in enumerate(id_list[0:2], 1):\n",
    "    detail_url = f'https://www.assembly.go.kr/assm/memPop/memPopup.do?dept_cd={id}'\n",
    "    html = requests.get(detail_url).text\n",
    "    soup = BeautifulSoup(html, 'html.parser')\n",
    "#     print(idx, detail_url)\n",
    "    \n",
    "    for div_tag in soup.select('.info_mna .profile'):\n",
    "        name = div_tag.select('h4')[0].text\n",
    "        img_url = div_tag.find('img').attrs['src']\n",
    "        full_url = urljoin(detail_url, img_url)\n",
    "        birth_date = div_tag.select_one(\"li:nth-of-type(4)\").text\n",
    "        # 왜 soup.select_one이 아니냐면\n",
    "        # soup.은 전체에서 긁어오기때문에 div_tag중에서 4번째 li를 가져와야..!\n",
    "        print(name, birth_date)"
   ]
  },
  {
   "cell_type": "code",
   "execution_count": 43,
   "metadata": {},
   "outputs": [
    {
     "name": "stdout",
     "output_type": "stream",
     "text": [
      "1 https://www.assembly.go.kr/assm/memPop/memPopup.do?dept_cd=9771230\n",
      "{'정당': '미래통합당', '선거구': '경남창원시성산구', '소속위원회': '보건복지위원회', '당선횟수': '재선(19대,21대)', '사무실전화': '02-784-1751', '홈페이지': 'http://blog.naver.com/ggotop', '이메일': 'ggotop@naver.com', '보좌관': '강종길,김홍광', '비서관': '박응서,최광림', '비서': '김영록,안효상,이유진,홍지형,김지훈', '취미, 특기': ''}\n",
      "2 https://www.assembly.go.kr/assm/memPop/memPopup.do?dept_cd=9771142\n",
      "{'정당': '미래통합당', '선거구': '대구동구을', '소속위원회': '국방위원회', '당선횟수': '초선(21대)', '사무실전화': '', '홈페이지': '', '이메일': '', '보좌관': '박홍규,정운태', '비서관': '유진영', '비서': '박종원,박순권,김광연,김현정,송민욱', '취미, 특기': ''}\n"
     ]
    }
   ],
   "source": [
    "for idx, id in enumerate(id_list[0:2], 1):\n",
    "    detail_url = f'https://www.assembly.go.kr/assm/memPop/memPopup.do?dept_cd={id}'\n",
    "    html = requests.get(detail_url).text\n",
    "    soup = BeautifulSoup(html, 'html.parser')\n",
    "    \n",
    "    # 국회의원 한 명의 상세정보를 저장하는 dictionary\n",
    "    member_dict = {}\n",
    "    \n",
    "    print(idx, detail_url)\n",
    "    \n",
    "    # key 값이 될 dt tag\n",
    "    dt_list = []\n",
    "    for dt_tag in soup.select('.info_mna dl.pro_detail dt'):\n",
    "        dt_list.append(dt_tag.text)\n",
    "#     print(dt_list) # 하면 ['정당', '선거구', '소속위원회', '당선횟수', '사무실전화', '홈페이지', '이메일', '보좌관', '비서관', '비서', '취미, 특기']\n",
    "    \n",
    "    # value 값이 될 dd tag\n",
    "    dd_list = []\n",
    "    for dd_tag in soup.select('.info_mna dl.pro_detail dd'):\n",
    "#     dd_list.append(dd_tag.text) 이거 하고\n",
    "#     print(dd_list) # 이거만 해보면\n",
    "#     경남 창원시성산구', '\\r\\n\\t\\t\\t\\t\\t\\t\\t\\t\\t\\t\\t\\t\\t\\t\\t\\t\\t\\t 이러고 난리남 정규표현식ㄱㄱㄱ\n",
    "        regex = re.compile(r'[\\n\\r\\t]')\n",
    "        result = regex.sub('', dd_tag.text.strip()).replace(' ', '')\n",
    "        # 중간공백은 strip으로 제거 안되기땜시 replace('바꾸고싶은문자', '뭘로 바꿀지')해야함\n",
    "        dd_list.append(result)\n",
    "#     print(dd_list)\n",
    "    \n",
    "    member_dict = dict(zip(dt_list, dd_list))\n",
    "    print(member_dict)\n",
    "    \n",
    "    \n",
    "    for div_tag in soup.select('.info_mna .profile'):\n",
    "        name = div_tag.select('h4')[0].text\n",
    "        img_url = div_tag.find('img').attrs['src']\n",
    "        full_url = urljoin(detail_url, img_url)\n",
    "        birth_date = div_tag.select_one(\"li:nth-of-type(4)\").text\n",
    "        "
   ]
  },
  {
   "cell_type": "code",
   "execution_count": 49,
   "metadata": {},
   "outputs": [
    {
     "name": "stdout",
     "output_type": "stream",
     "text": [
      "1 https://www.assembly.go.kr/assm/memPop/memPopup.do?dept_cd=9771230\n",
      "[{'정당': '미래통합당', '선거구': '경남창원시성산구', '소속위원회': '보건복지위원회', '당선횟수': '재선(19대,21대)', '사무실전화': '02-784-1751', '홈페이지': 'http://blog.naver.com/ggotop', '이메일': 'ggotop@naver.com', '보좌관': '강종길,김홍광', '비서관': '박응서,최광림', '비서': '김영록,안효상,이유진,홍지형,김지훈', '취미, 특기': '', '이름': '강기윤', '이미지': 'https://www.assembly.go.kr/photo/9771230.jpg', '생년월일': '1960-06-04'}]\n",
      "2 https://www.assembly.go.kr/assm/memPop/memPopup.do?dept_cd=9771142\n",
      "[{'정당': '미래통합당', '선거구': '경남창원시성산구', '소속위원회': '보건복지위원회', '당선횟수': '재선(19대,21대)', '사무실전화': '02-784-1751', '홈페이지': 'http://blog.naver.com/ggotop', '이메일': 'ggotop@naver.com', '보좌관': '강종길,김홍광', '비서관': '박응서,최광림', '비서': '김영록,안효상,이유진,홍지형,김지훈', '취미, 특기': '', '이름': '강기윤', '이미지': 'https://www.assembly.go.kr/photo/9771230.jpg', '생년월일': '1960-06-04'}, {'정당': '미래통합당', '선거구': '대구동구을', '소속위원회': '국방위원회', '당선횟수': '초선(21대)', '사무실전화': '', '홈페이지': '', '이메일': '', '보좌관': '박홍규,정운태', '비서관': '유진영', '비서': '박종원,박순권,김광연,김현정,송민욱', '취미, 특기': '', '이름': '강대식', '이미지': 'https://www.assembly.go.kr/photo/9771142.jpg', '생년월일': '1959-11-02'}]\n"
     ]
    }
   ],
   "source": [
    "member_list = []\n",
    "\n",
    "for idx, id in enumerate(id_list[0:2], 1):\n",
    "    detail_url = f'https://www.assembly.go.kr/assm/memPop/memPopup.do?dept_cd={id}'\n",
    "    html = requests.get(detail_url).text\n",
    "    soup = BeautifulSoup(html, 'html.parser')\n",
    "    \n",
    "    member_dict = {} # member_dict = {} 선언을 안에서 했기 때문에 나중에 초기화 안해도 됩니다\n",
    "    \n",
    "    print(idx, detail_url)\n",
    "    \n",
    "    dt_list = []\n",
    "    for dt_tag in soup.select('.info_mna dl.pro_detail dt'):\n",
    "        dt_list.append(dt_tag.text)\n",
    "\n",
    "    dd_list = []\n",
    "    for dd_tag in soup.select('.info_mna dl.pro_detail dd'):\n",
    "        regex = re.compile(r'[\\n\\r\\t]')\n",
    "        result = regex.sub('', dd_tag.text.strip()).replace(' ', '')\n",
    "        dd_list.append(result)\n",
    "    \n",
    "    member_dict = dict(zip(dt_list, dd_list))\n",
    "    \n",
    "    for div_tag in soup.select('.info_mna .profile'):\n",
    "        member_dict['이름'] = div_tag.select('h4')[0].text\n",
    "        img_url = div_tag.find('img').attrs['src']\n",
    "        member_dict['이미지'] = urljoin(detail_url, img_url)\n",
    "        member_dict['생년월일'] = div_tag.select_one(\"li:nth-of-type(4)\").text\n",
    "        \n",
    "    member_list.append(member_dict)\n",
    "    print(member_list)"
   ]
  },
  {
   "cell_type": "code",
   "execution_count": 83,
   "metadata": {},
   "outputs": [
    {
     "name": "stdout",
     "output_type": "stream",
     "text": [
      "----작업시작----\n"
     ]
    }
   ],
   "source": [
    "print('----작업시작----')\n",
    "\n",
    "member_list = []\n",
    "\n",
    "for idx, id in enumerate(id_list, 1):\n",
    "    detail_url = f'https://www.assembly.go.kr/assm/memPop/memPopup.do?dept_cd={id}'\n",
    "    html = requests.get(detail_url).text\n",
    "    soup = BeautifulSoup(html, 'html.parser')\n",
    "    \n",
    "    member_dict = {} # member_dict = {} 선언을 안에서 했기 때문에 나중에 초기화 안해도 됩니다\n",
    "    \n",
    "#    print(idx, id)\n",
    "    \n",
    "    dt_list = []\n",
    "    for dt_tag in soup.select('.info_mna dl.pro_detail dt'):\n",
    "        dt_list.append(dt_tag.text)\n",
    "\n",
    "    dd_list = []\n",
    "    for dd_tag in soup.select('.info_mna dl.pro_detail dd'):\n",
    "        regex = re.compile(r'[\\n\\r\\t]')\n",
    "        result = regex.sub('', dd_tag.text.strip()).replace(' ', '')\n",
    "        dd_list.append(result)\n",
    "    \n",
    "    member_dict = dict(zip(dt_list, dd_list))\n",
    "    \n",
    "    for div_tag in soup.select('.info_mna .profile'):\n",
    "        member_dict['이름'] = div_tag.select('h4')[0].text\n",
    "        img_url = div_tag.find('img').attrs['src']\n",
    "        member_dict['이미지'] = urljoin(detail_url, img_url)\n",
    "        member_dict['생년월일'] = div_tag.select_one(\"li:nth-of-type(4)\").text\n",
    "        \n",
    "    member_list.append(member_dict)"
   ]
  },
  {
   "cell_type": "code",
   "execution_count": 85,
   "metadata": {},
   "outputs": [],
   "source": [
    "# [{}, {}, {}] 이렇게 list 안에 dict 여러개가 들어있는걸\n",
    "# {} dict 하나를 series하나로 뽑아내고\n",
    "# 그걸 묶어서 DataFrame으로 만들거야\n",
    "\n",
    "import pandas as pd\n",
    "\n",
    "data_df = pd.DataFrame(columns=['이름','이미지', '생년월일', '정당', '선거구', '소속위원회',\\\n",
    "                                '당선횟수', '사무실전화', '홈페이지', '이메일', '비서관', '취미, 특기'])\n",
    "for member in member_list:\n",
    "    series_obj = pd.Series(member)\n",
    "    data_df = data_df.append(series_obj, ignore_index=True)\n"
   ]
  },
  {
   "cell_type": "code",
   "execution_count": 86,
   "metadata": {},
   "outputs": [
    {
     "name": "stdout",
     "output_type": "stream",
     "text": [
      "Index(['이름', '이미지', '생년월일', '정당', '선거구', '소속위원회', '당선횟수', '사무실전화', '홈페이지',\n",
      "       '이메일', '비서관', '취미, 특기', '보좌관', '비서'],\n",
      "      dtype='object')\n",
      "RangeIndex(start=0, stop=300, step=1)\n",
      "(300, 14)\n"
     ]
    }
   ],
   "source": [
    "print(data_df.columns)\n",
    "print(data_df.index)\n",
    "print(data_df.shape)"
   ]
  },
  {
   "cell_type": "code",
   "execution_count": 87,
   "metadata": {},
   "outputs": [
    {
     "data": {
      "text/plain": [
       "array(['미래통합당', '더불어민주당', '열린민주당', '정의당', '무소속', '국민의당', '기본소득당', '시대전환'],\n",
       "      dtype=object)"
      ]
     },
     "execution_count": 87,
     "metadata": {},
     "output_type": "execute_result"
    }
   ],
   "source": [
    "# 정당 unique\n",
    "data_df['정당'].unique()"
   ]
  },
  {
   "cell_type": "code",
   "execution_count": 88,
   "metadata": {},
   "outputs": [
    {
     "data": {
      "text/plain": [
       "더불어민주당    176\n",
       "미래통합당     103\n",
       "무소속         7\n",
       "정의당         6\n",
       "열린민주당       3\n",
       "국민의당        3\n",
       "기본소득당       1\n",
       "시대전환        1\n",
       "Name: 정당, dtype: int64"
      ]
     },
     "execution_count": 88,
     "metadata": {},
     "output_type": "execute_result"
    }
   ],
   "source": [
    "data_df['정당'].value_counts()"
   ]
  },
  {
   "cell_type": "code",
   "execution_count": null,
   "metadata": {},
   "outputs": [],
   "source": []
  },
  {
   "cell_type": "code",
   "execution_count": null,
   "metadata": {},
   "outputs": [],
   "source": []
  },
  {
   "cell_type": "code",
   "execution_count": null,
   "metadata": {},
   "outputs": [],
   "source": []
  },
  {
   "cell_type": "code",
   "execution_count": null,
   "metadata": {},
   "outputs": [],
   "source": []
  },
  {
   "cell_type": "code",
   "execution_count": null,
   "metadata": {},
   "outputs": [],
   "source": []
  },
  {
   "cell_type": "code",
   "execution_count": null,
   "metadata": {},
   "outputs": [],
   "source": []
  },
  {
   "cell_type": "code",
   "execution_count": null,
   "metadata": {},
   "outputs": [],
   "source": []
  },
  {
   "cell_type": "code",
   "execution_count": null,
   "metadata": {},
   "outputs": [],
   "source": []
  },
  {
   "cell_type": "code",
   "execution_count": null,
   "metadata": {},
   "outputs": [],
   "source": []
  },
  {
   "cell_type": "code",
   "execution_count": null,
   "metadata": {},
   "outputs": [],
   "source": []
  }
 ],
 "metadata": {
  "kernelspec": {
   "display_name": "Python 3",
   "language": "python",
   "name": "python3"
  },
  "language_info": {
   "codemirror_mode": {
    "name": "ipython",
    "version": 3
   },
   "file_extension": ".py",
   "mimetype": "text/x-python",
   "name": "python",
   "nbconvert_exporter": "python",
   "pygments_lexer": "ipython3",
   "version": "3.7.0"
  }
 },
 "nbformat": 4,
 "nbformat_minor": 2
}
