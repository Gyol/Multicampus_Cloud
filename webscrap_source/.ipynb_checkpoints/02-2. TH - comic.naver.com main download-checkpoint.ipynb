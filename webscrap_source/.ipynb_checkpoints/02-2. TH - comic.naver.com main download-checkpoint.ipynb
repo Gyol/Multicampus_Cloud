{
 "cells": [
  {
   "cell_type": "markdown",
   "metadata": {},
   "source": [
    "### 웹툰 메인 이미지 스크래핑\n",
    "* 추천 웹툰의 title과 link 가져오기\n",
    "* {title:'대만에서, 너와 하루', link:'https://comic.naver.com/webtoon/list.nhn?titleId=749279'}\n",
    "* dict 한개가 웹툰 한 개 정보\n",
    "* 근데 추천웹툰이 여러개니까 그걸 또 list에 담을 것.\n",
    "* [{title:' '. link:' '}{}{}] 뭐 이런식이요\n"
   ]
  },
  {
   "cell_type": "code",
   "execution_count": 161,
   "metadata": {},
   "outputs": [
    {
     "name": "stdout",
     "output_type": "stream",
     "text": [
      "<class 'list'>\n",
      "6\n",
      "89\n",
      "6\n",
      "패밀리 사이즈 - https://comic.naver.com/webtoon/list.nhn?titleId=626906\n",
      "\n",
      "[{'title': '패밀리 사이즈', 'link': 'https://comic.naver.com/webtoon/list.nhn?titleId=626906'}]\n",
      "마음의소리 - https://comic.naver.com/webtoon/list.nhn?titleId=20853\n",
      "\n",
      "[{'title': '패밀리 사이즈', 'link': 'https://comic.naver.com/webtoon/list.nhn?titleId=626906'}, {'title': '마음의소리', 'link': 'https://comic.naver.com/webtoon/list.nhn?titleId=20853'}]\n",
      "윌유메리미 - https://comic.naver.com/webtoon/list.nhn?titleId=616239\n",
      "\n",
      "[{'title': '패밀리 사이즈', 'link': 'https://comic.naver.com/webtoon/list.nhn?titleId=626906'}, {'title': '마음의소리', 'link': 'https://comic.naver.com/webtoon/list.nhn?titleId=20853'}, {'title': '윌유메리미', 'link': 'https://comic.naver.com/webtoon/list.nhn?titleId=616239'}]\n",
      "오늘의 순정망화 - https://comic.naver.com/webtoon/list.nhn?titleId=716857\n",
      "\n",
      "[{'title': '패밀리 사이즈', 'link': 'https://comic.naver.com/webtoon/list.nhn?titleId=626906'}, {'title': '마음의소리', 'link': 'https://comic.naver.com/webtoon/list.nhn?titleId=20853'}, {'title': '윌유메리미', 'link': 'https://comic.naver.com/webtoon/list.nhn?titleId=616239'}, {'title': '오늘의 순정망화', 'link': 'https://comic.naver.com/webtoon/list.nhn?titleId=716857'}]\n",
      "자판귀 - https://comic.naver.com/webtoon/list.nhn?titleId=703850\n",
      "\n",
      "[{'title': '패밀리 사이즈', 'link': 'https://comic.naver.com/webtoon/list.nhn?titleId=626906'}, {'title': '마음의소리', 'link': 'https://comic.naver.com/webtoon/list.nhn?titleId=20853'}, {'title': '윌유메리미', 'link': 'https://comic.naver.com/webtoon/list.nhn?titleId=616239'}, {'title': '오늘의 순정망화', 'link': 'https://comic.naver.com/webtoon/list.nhn?titleId=716857'}, {'title': '자판귀', 'link': 'https://comic.naver.com/webtoon/list.nhn?titleId=703850'}]\n",
      "한림체육관 - https://comic.naver.com/webtoon/list.nhn?titleId=743139\n",
      "\n",
      "[{'title': '패밀리 사이즈', 'link': 'https://comic.naver.com/webtoon/list.nhn?titleId=626906'}, {'title': '마음의소리', 'link': 'https://comic.naver.com/webtoon/list.nhn?titleId=20853'}, {'title': '윌유메리미', 'link': 'https://comic.naver.com/webtoon/list.nhn?titleId=616239'}, {'title': '오늘의 순정망화', 'link': 'https://comic.naver.com/webtoon/list.nhn?titleId=716857'}, {'title': '자판귀', 'link': 'https://comic.naver.com/webtoon/list.nhn?titleId=703850'}, {'title': '한림체육관', 'link': 'https://comic.naver.com/webtoon/list.nhn?titleId=743139'}]\n"
     ]
    }
   ],
   "source": [
    "import requests\n",
    "from bs4 import BeautifulSoup\n",
    "from urllib.parse import urljoin\n",
    "\n",
    "main_url = 'https://comic.naver.com/index.nhn'\n",
    "\n",
    "res = requests.get(main_url) # url들을 가져오는거지\n",
    "html = res.text # 페이지 소스보기 해서 보이는것들 싹 가져오는거\n",
    "# 이제 beautifulsoup 을 이용해서 객체를 생성해서 parsing하겠다고 해야돼\n",
    "soup = BeautifulSoup(html, 'html.parser')\n",
    "\n",
    "# 내가 원하는 부분 ul tag의 id를 가져올거야 그건 중복되지않는 문자를 쓸거거든\n",
    "# copy selector 했을때 나오는 이 좌표 키워드들 '#genreRecommand > li:nth-child(2) > div.genreRecomImg2 > a' 참조해\n",
    "print(type(soup.select('#genreRecommand'))) # ul태그라고 안쓰고 대신 '#'붙임\n",
    "print(len(soup.select('#genreRecommand li')))\n",
    "# 여기까지 하면 지금 추천웹툰 gsnreRecommand가 6개 있기때문에 li가 6개있는게 맞아용\n",
    "print(len(soup.select('#content ul li a')))\n",
    "# 여기까지 하면 이미지, 제목, 회차설명, 작가명에 모두 a태그가 붙어있기 때문에 24가 뜸\n",
    "# <ul> -자식-> <li> -> <a> 인데 범주로 생각해보면 ul전체추천웹툰 li개수 a밑에 항목\n",
    "# /webtoon/list.nhn?titleId=749279\n",
    "\n",
    "print(len(soup.select('#genreRecommand h6 a')))\n",
    "\n",
    "webtoon_list = []\n",
    "\n",
    "for a_tag in soup.select('#genreRecommand h6 a'):\n",
    "    title = a_tag.text.strip()\n",
    "    link = urljoin(main_url, a_tag['href']) # 속성에는 [] 준다구요\n",
    "    print(title, '-',link)\n",
    "    webtoon_dict = {'title':title, 'link':link}\n",
    "\n",
    "    webtoon_list.append(webtoon_dict)\n",
    "    webtoon_dict = {}\n",
    "    print()\n",
    "    print(webtoon_list)"
   ]
  },
  {
   "cell_type": "markdown",
   "metadata": {},
   "source": [
    "### 특정 웹툰의 image 다운로드를 함수로 선언하기"
   ]
  },
  {
   "cell_type": "code",
   "execution_count": 68,
   "metadata": {},
   "outputs": [],
   "source": [
    "def write_image(title, main_url):\n",
    "    print(title, main_url)\n",
    "    # 이거 밑에꺼 앞에 쌤이 주신거에서 복붙해온거요\n",
    "    import requests\n",
    "    from bs4 import BeautifulSoup\n",
    "    import os\n",
    "\n",
    "    res = requests.get(main_url)\n",
    "    html = res.text\n",
    "    soup = BeautifulSoup(html, 'html.parser')\n",
    "\n",
    "    img_urls = []\n",
    "    for img_url in soup.select(\"img[src$='.jpg']\"):\n",
    "        #print(img_url)\n",
    "        img_urls.append(img_url['src'])\n",
    "\n",
    "    # 디렉토리 생성\n",
    "    dir_name = 'img/' + title\n",
    "    if not os.path.isdir(dir_name): # img밑에 받은 title 명으로 폴더만들겠다는 뜻\n",
    "        os.mkdir(dir_name)\n",
    "\n",
    "    print(len(img_urls)) \n",
    "    for img_url in img_urls:\n",
    "        #print(img_url)\n",
    "        req_header = {\n",
    "            'referer':main_url\n",
    "        }\n",
    "\n",
    "        res2 = requests.get(img_url, headers=req_header)\n",
    "        img_data = res2.content\n",
    "        file_name = os.path.basename(img_url)\n",
    "        with open(dir_name + '/' + file_name,'wb') as file:\n",
    "            print('Writing to {} ({} bytes)'.format(file_name,len(img_data)))    \n",
    "            file.write(img_data)    "
   ]
  },
  {
   "cell_type": "code",
   "execution_count": 70,
   "metadata": {},
   "outputs": [
    {
     "name": "stdout",
     "output_type": "stream",
     "text": [
      "대만에서, 너와 하루 https://comic.naver.com/webtoon/list.nhn?titleId=749279\n",
      "13\n",
      "Writing to thumbnail_IMAG06_0862a825-7c18-49ac-ba0c-9ac0f454f11c.jpg (16593 bytes)\n",
      "Writing to thumbnail_202x120_62e257c6-32ac-4159-80a9-2790cbd7d5cd.jpg (27051 bytes)\n",
      "Writing to thumbnail_202x120_9c838080-555d-456d-8698-094d0c49b8d0.jpg (32048 bytes)\n",
      "Writing to thumbnail_202x120_460b61a7-b8ef-4be8-964d-c867dcab62a5.jpg (32975 bytes)\n",
      "Writing to thumbnail_202x120_156deca2-f458-441b-92ce-cb4250d352fc.jpg (28466 bytes)\n",
      "Writing to thumbnail_IMAG10_85425026-fd1c-4a8a-8d58-e257bbf892c0.jpg (22743 bytes)\n",
      "Writing to thumbnail_IMAG10_545c2365-1d18-4cd3-afd9-27b161a4c664.jpg (12749 bytes)\n",
      "Writing to thumbnail_IMAG10_b324ec4f-f869-4b55-b2fb-63306bef3a41.jpg (10601 bytes)\n",
      "Writing to thumbnail_IMAG10_69a59ea4-ece8-4454-beea-a730adae236f.jpg (10347 bytes)\n",
      "Writing to thumbnail_IMAG10_1ffbcabb-b5fd-41d8-9500-faaee1d3cbb4.jpg (9410 bytes)\n",
      "Writing to bnr_partnership.jpg (10326 bytes)\n",
      "Writing to bnr_joinus.jpg (17502 bytes)\n",
      "Writing to bnr_careers.jpg (18455 bytes)\n"
     ]
    }
   ],
   "source": [
    "write_image('대만에서, 너와 하루', 'https://comic.naver.com/webtoon/list.nhn?titleId=749279')"
   ]
  },
  {
   "cell_type": "code",
   "execution_count": null,
   "metadata": {},
   "outputs": [],
   "source": []
  },
  {
   "cell_type": "code",
   "execution_count": 99,
   "metadata": {},
   "outputs": [
    {
     "name": "stdout",
     "output_type": "stream",
     "text": [
      "6\n"
     ]
    },
    {
     "data": {
      "text/plain": [
       "['/webtoon/list.nhn?titleId=626906',\n",
       " '/webtoon/list.nhn?titleId=20853',\n",
       " '/webtoon/list.nhn?titleId=616239',\n",
       " '/webtoon/list.nhn?titleId=716857',\n",
       " '/webtoon/list.nhn?titleId=703850',\n",
       " '/webtoon/list.nhn?titleId=743139',\n",
       " '/webtoon/list.nhn?titleId=21815',\n",
       " '/webtoon/list.nhn?titleId=749279',\n",
       " '/webtoon/list.nhn?titleId=743025',\n",
       " '/webtoon/list.nhn?titleId=740132',\n",
       " '/webtoon/list.nhn?titleId=741891',\n",
       " '/webtoon/list.nhn?titleId=694946']"
      ]
     },
     "execution_count": 99,
     "metadata": {},
     "output_type": "execute_result"
    }
   ],
   "source": [
    "import requests\n",
    "from bs4 import BeautifulSoup\n",
    "import os\n",
    "\n",
    "main_url = 'https://comic.naver.com/index.nhn'\n",
    "\n",
    "res = requests.get(main_url)\n",
    "html = res.text\n",
    "soup = BeautifulSoup(html, 'html.parser')\n",
    "\n",
    "print(len(soup.select('#genreRecommand div.genreRecomInfo2 h6 a')))\n",
    "\n",
    "haeboja = soup.select('#genreRecommand div.genreRecomInfo2 h6 a')\n",
    "\n",
    "\n",
    "\n",
    "for img_url in soup.select('#genreRecommand div.genreRecomInfo2 h6 a'):\n",
    "    img_urls.append(img_url['href'])\n",
    "    \n",
    "    \n",
    "img_urls"
   ]
  },
  {
   "cell_type": "markdown",
   "metadata": {},
   "source": [
    "### 쌤이하심"
   ]
  },
  {
   "cell_type": "code",
   "execution_count": 157,
   "metadata": {},
   "outputs": [
    {
     "name": "stdout",
     "output_type": "stream",
     "text": [
      "https://comic.naver.com/webtoon/detail.nhn?titleId=626906&no=602\n",
      "https://comic.naver.com/webtoon/detail.nhn?titleId=20853&no=1236\n",
      "https://comic.naver.com/webtoon/detail.nhn?titleId=616239&no=642\n",
      "https://comic.naver.com/webtoon/detail.nhn?titleId=716857&no=205\n",
      "https://comic.naver.com/webtoon/detail.nhn?titleId=703850&no=124\n",
      "https://comic.naver.com/webtoon/detail.nhn?titleId=743139&no=9\n"
     ]
    },
    {
     "data": {
      "text/plain": [
       "[{'title': '패밀리 사이즈',\n",
       "  'link': 'https://comic.naver.com/webtoon/list.nhn?titleId=626906',\n",
       "  'detail_link': 'https://comic.naver.com/webtoon/detail.nhn?titleId=626906&no=602'},\n",
       " {'title': '마음의소리',\n",
       "  'link': 'https://comic.naver.com/webtoon/list.nhn?titleId=20853',\n",
       "  'detail_link': 'https://comic.naver.com/webtoon/detail.nhn?titleId=20853&no=1236'},\n",
       " {'title': '윌유메리미',\n",
       "  'link': 'https://comic.naver.com/webtoon/list.nhn?titleId=616239',\n",
       "  'detail_link': 'https://comic.naver.com/webtoon/detail.nhn?titleId=616239&no=642'},\n",
       " {'title': '오늘의 순정망화',\n",
       "  'link': 'https://comic.naver.com/webtoon/list.nhn?titleId=716857',\n",
       "  'detail_link': 'https://comic.naver.com/webtoon/detail.nhn?titleId=716857&no=205'},\n",
       " {'title': '자판귀',\n",
       "  'link': 'https://comic.naver.com/webtoon/list.nhn?titleId=703850',\n",
       "  'detail_link': 'https://comic.naver.com/webtoon/detail.nhn?titleId=703850&no=124'},\n",
       " {'title': '한림체육관',\n",
       "  'link': 'https://comic.naver.com/webtoon/list.nhn?titleId=743139',\n",
       "  'detail_link': 'https://comic.naver.com/webtoon/detail.nhn?titleId=743139&no=9'}]"
      ]
     },
     "execution_count": 157,
     "metadata": {},
     "output_type": "execute_result"
    }
   ],
   "source": [
    "import requests\n",
    "from bs4 import BeautifulSoup\n",
    "import os\n",
    "\n",
    "main_url = 'https://comic.naver.com/index.nhn'\n",
    "\n",
    "res = requests.get(main_url)\n",
    "html = res.text\n",
    "soup = BeautifulSoup(html, 'html.parser')\n",
    "\n",
    "webtoon_list = []\n",
    "webtoon_dict = {}\n",
    "\n",
    "for div_tag in soup.select(' .genreRecomInfo2'):\n",
    "    for a_tag1 in div_tag.select('h6 a'):\n",
    "        title = a_tag1.text.strip()\n",
    "        link = urljoin(main_url, a_tag1['href'])\n",
    "        webtoon_dict[\"title\"] = title\n",
    "        webtoon_dict[\"link\"] = link\n",
    "    for a_tag2 in div_tag.select('p a'):\n",
    "        detail_link = urljoin(main_url, a_tag2['href'])\n",
    "        print(detail_link)\n",
    "        webtoon_dict[\"detail_link\"] = detail_link\n",
    "    webtoon_list.append(webtoon_dict)\n",
    "    webtoon_dict = {}\n",
    "    \n",
    "webtoon_list"
   ]
  },
  {
   "cell_type": "code",
   "execution_count": 119,
   "metadata": {},
   "outputs": [
    {
     "name": "stdout",
     "output_type": "stream",
     "text": [
      "{'title': '한림체육관', 'link': 'https://comic.naver.com/webtoon/list.nhn?titleId=743139', 'detail_link': 'https://comic.naver.com/webtoon/detail.nhn?titleId=743139&no=9'}\n",
      "{'title': '한림체육관', 'link': 'https://comic.naver.com/webtoon/list.nhn?titleId=743139', 'detail_link': 'https://comic.naver.com/webtoon/detail.nhn?titleId=743139&no=9'}\n",
      "{'title': '한림체육관', 'link': 'https://comic.naver.com/webtoon/list.nhn?titleId=743139', 'detail_link': 'https://comic.naver.com/webtoon/detail.nhn?titleId=743139&no=9'}\n",
      "{'title': '한림체육관', 'link': 'https://comic.naver.com/webtoon/list.nhn?titleId=743139', 'detail_link': 'https://comic.naver.com/webtoon/detail.nhn?titleId=743139&no=9'}\n",
      "{'title': '한림체육관', 'link': 'https://comic.naver.com/webtoon/list.nhn?titleId=743139', 'detail_link': 'https://comic.naver.com/webtoon/detail.nhn?titleId=743139&no=9'}\n",
      "{'title': '한림체육관', 'link': 'https://comic.naver.com/webtoon/list.nhn?titleId=743139', 'detail_link': 'https://comic.naver.com/webtoon/detail.nhn?titleId=743139&no=9'}\n"
     ]
    }
   ],
   "source": [
    "for webtoon in webtoon_list:\n",
    "    print(webtoon)"
   ]
  }
 ],
 "metadata": {
  "kernelspec": {
   "display_name": "Python 3",
   "language": "python",
   "name": "python3"
  },
  "language_info": {
   "codemirror_mode": {
    "name": "ipython",
    "version": 3
   },
   "file_extension": ".py",
   "mimetype": "text/x-python",
   "name": "python",
   "nbconvert_exporter": "python",
   "pygments_lexer": "ipython3",
   "version": "3.7.0"
  }
 },
 "nbformat": 4,
 "nbformat_minor": 2
}
