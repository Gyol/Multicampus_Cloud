{
 "cells": [
  {
   "cell_type": "code",
   "execution_count": 55,
   "metadata": {},
   "outputs": [],
   "source": [
    "book_html=\"\"\"\n",
    "<ul id=\"bible\">\n",
    "<li id=\"ge\" class=\"first\">\n",
    "<ul class=\"second\">\n",
    "    <div>\n",
    "        <li>\n",
    "            <span>aa</span>\n",
    "        </li>\n",
    "    </div>\n",
    "    <li>bb</li>\n",
    "</ul>\n",
    "\n",
    "</li>\n",
    "<li id=\"ex\" class=\"first\">나의첫사회생활</li>\n",
    "<li id=\"le\" class=\"second\">Still Me</li>\n",
    "<li id=\"nu\" class=\"second\">화염과 분노 : 도널드 트럼프의 백악관 뒷이야기</li>\n",
    "<li id=\"de\">매일 좋을 수만은 없는 여행을 한다</li>\n",
    "</ul>\n",
    "\"\"\"\n",
    "from bs4 import BeautifulSoup\n",
    "\n",
    "soup = BeautifulSoup(book_html,'html.parser')\n",
    "#print(soup.select('ul li'))"
   ]
  },
  {
   "cell_type": "code",
   "execution_count": 21,
   "metadata": {},
   "outputs": [
    {
     "name": "stdout",
     "output_type": "stream",
     "text": [
      "<li class=\"first\" id=\"ge\">\n",
      "<ul class=\"second\">\n",
      "<li>aa</li>\n",
      "<li>bb</li>\n",
      "</ul>\n",
      "</li>\n",
      "<li>aa</li>\n",
      "<li>bb</li>\n",
      "<li class=\"first\" id=\"ex\">나의첫사회생활</li>\n",
      "<li class=\"second\" id=\"le\">Still Me</li>\n",
      "<li class=\"second\" id=\"nu\">화염과 분노 : 도널드 트럼프의 백악관 뒷이야기</li>\n",
      "<li id=\"de\">매일 좋을 수만은 없는 여행을 한다</li>\n"
     ]
    }
   ],
   "source": [
    "for li_tag in soup.select('ul li'):\n",
    "    print(li_tag)"
   ]
  },
  {
   "cell_type": "code",
   "execution_count": 18,
   "metadata": {},
   "outputs": [
    {
     "name": "stdout",
     "output_type": "stream",
     "text": [
      "aa\n",
      "bb\n",
      "aa\n",
      "bb\n"
     ]
    }
   ],
   "source": [
    "# id가 ge  태그 가져오기\n",
    "# select, select_one\n",
    "#print(type(soup.select('#ge')), soup.select('#ge'))\n",
    "# print('------')\n",
    "# print(type(soup.select_one('#ge')), soup.select_one('#ge'))\n",
    "\n",
    "print(soup.select('li#ge')[0].text.strip())\n",
    "print(soup.select_one('li#ge').text.strip())"
   ]
  },
  {
   "cell_type": "code",
   "execution_count": 28,
   "metadata": {},
   "outputs": [
    {
     "name": "stdout",
     "output_type": "stream",
     "text": [
      "[<ul class=\"second\">\n",
      "<li>aa</li>\n",
      "<li>bb</li>\n",
      "</ul>, <li class=\"second\" id=\"le\">Still Me</li>, <li class=\"second\" id=\"nu\">화염과 분노 : 도널드 트럼프의 백악관 뒷이야기</li>]\n",
      "-----\n",
      "[<li class=\"second\" id=\"le\">Still Me</li>, <li class=\"second\" id=\"nu\">화염과 분노 : 도널드 트럼프의 백악관 뒷이야기</li>]\n",
      "-----\n",
      "<li class=\"second\" id=\"le\">Still Me</li>\n"
     ]
    }
   ],
   "source": [
    "# class명이 second \n",
    "print(soup.select('.second'))\n",
    "print('-----')\n",
    "print(soup.select('li.second'))\n",
    "print('-----')\n",
    "print(soup.select_one('li.second'))"
   ]
  },
  {
   "cell_type": "code",
   "execution_count": 31,
   "metadata": {},
   "outputs": [
    {
     "name": "stdout",
     "output_type": "stream",
     "text": [
      "<class 'bs4.element.ResultSet'> [<li class=\"first\" id=\"ge\">\n",
      "<ul class=\"second\">\n",
      "<li>aa</li>\n",
      "<li>bb</li>\n",
      "</ul>\n",
      "</li>, <li>aa</li>, <li>bb</li>, <li class=\"first\" id=\"ex\">나의첫사회생활</li>, <li class=\"second\" id=\"le\">Still Me</li>, <li class=\"second\" id=\"nu\">화염과 분노 : 도널드 트럼프의 백악관 뒷이야기</li>, <li id=\"de\">매일 좋을 수만은 없는 여행을 한다</li>]\n",
      "-----\n",
      "<class 'bs4.element.Tag'> <li class=\"first\" id=\"ge\">\n",
      "<ul class=\"second\">\n",
      "<li>aa</li>\n",
      "<li>bb</li>\n",
      "</ul>\n",
      "</li>\n"
     ]
    }
   ],
   "source": [
    "# find()와 find_all()\n",
    "# find() == select_one(), find_all() = select()\n",
    "print(type(soup.find_all('li')),soup.find_all('li'))\n",
    "print('-----')\n",
    "print(type(soup.find('li')),soup.find('li'))"
   ]
  },
  {
   "cell_type": "code",
   "execution_count": 40,
   "metadata": {},
   "outputs": [
    {
     "name": "stdout",
     "output_type": "stream",
     "text": [
      "<class 'bs4.element.ResultSet'> [<li class=\"second\" id=\"le\">Still Me</li>, <li class=\"second\" id=\"nu\">화염과 분노 : 도널드 트럼프의 백악관 뒷이야기</li>]\n",
      "-----\n",
      "<class 'bs4.element.Tag'> <li class=\"second\" id=\"le\">Still Me</li>\n",
      "Still Me\n",
      "Still Me\n",
      "Still Me\n",
      "Still Me\n"
     ]
    }
   ],
   "source": [
    "# li.second \n",
    "print(type(soup.find_all('li')),soup.find_all('li',attrs={\"class\":\"second\"}))\n",
    "print('-----')\n",
    "print(type(soup.find('li')),soup.find('li',attrs={\"class\":\"second\"}))\n",
    "\n",
    "print(soup.find('li',attrs={\"class\":\"second\"}).string)\n",
    "print(soup.find('li',attrs={\"class\":\"second\"}).text)\n",
    "print(soup.select_one('li.second').string)\n",
    "print(soup.select_one('li.second').text)"
   ]
  },
  {
   "cell_type": "code",
   "execution_count": 41,
   "metadata": {},
   "outputs": [],
   "source": [
    "# css 선택자를 입력 받아서 결과를 반환하는 lambda 함수 정의\n",
    "sel = lambda ex:print(soup.select_one(ex).string)"
   ]
  },
  {
   "cell_type": "code",
   "execution_count": 58,
   "metadata": {},
   "outputs": [
    {
     "name": "stdout",
     "output_type": "stream",
     "text": [
      "나의첫사회생활\n",
      "Still Me\n",
      "Still Me\n",
      "None\n",
      "bb\n",
      "나의첫사회생활\n",
      "Still Me\n"
     ]
    }
   ],
   "source": [
    "sel('li#ex')\n",
    "sel('ul li#le')\n",
    "sel('ul > li#le')\n",
    "sel('ul.second li')\n",
    "sel('ul.second > li')\n",
    "sel(\"li[id='ex']\")\n",
    "sel('li:nth-of-type(5)')"
   ]
  },
  {
   "cell_type": "code",
   "execution_count": 59,
   "metadata": {},
   "outputs": [
    {
     "name": "stdout",
     "output_type": "stream",
     "text": [
      "[<li>\n",
      "<span>aa</span>\n",
      "</li>, <li>bb</li>]\n",
      "----\n",
      "[<li>bb</li>]\n"
     ]
    }
   ],
   "source": [
    "print(soup.select('ul.second li'))\n",
    "print('----')\n",
    "print(soup.select('ul.second > li'))"
   ]
  },
  {
   "cell_type": "code",
   "execution_count": 62,
   "metadata": {},
   "outputs": [
    {
     "name": "stdout",
     "output_type": "stream",
     "text": [
      "7 [<li class=\"first\" id=\"ge\">\n",
      "<ul class=\"second\">\n",
      "<div>\n",
      "<li>\n",
      "<span>aa</span>\n",
      "</li>\n",
      "</div>\n",
      "<li>bb</li>\n",
      "</ul>\n",
      "</li>, <li>\n",
      "<span>aa</span>\n",
      "</li>, <li>bb</li>, <li class=\"first\" id=\"ex\">나의첫사회생활</li>, <li class=\"second\" id=\"le\">Still Me</li>, <li class=\"second\" id=\"nu\">화염과 분노 : 도널드 트럼프의 백악관 뒷이야기</li>, <li id=\"de\">매일 좋을 수만은 없는 여행을 한다</li>]\n",
      "----\n",
      "[<li class=\"second\" id=\"le\">Still Me</li>]\n"
     ]
    }
   ],
   "source": [
    "print(len(soup.select('li')), soup.select('li'))\n",
    "print('----')\n",
    "print(soup.select('li:nth-of-type(5)'))"
   ]
  },
  {
   "cell_type": "code",
   "execution_count": null,
   "metadata": {},
   "outputs": [],
   "source": [
    "html=\"\"\"\n",
    "<html>\n",
    "<body>\n",
    "<div id=\"main-goods\" role=\"page\">\n",
    "<h1>과일과 야채</h1>\n",
    "<ul id=\"fr-list\">\n",
    "<li class=\"red green\" data-lo=\"ko\">사과</li>\n",
    "<li class=\"purple\" data-lo=\"us\">포도</li>\n",
    "<li class=\"yellow\" data-lo=\"us\">레몬</li>\n",
    "<li class=\"yellow\" data-lo=\"ko\">오렌지</li>\n",
    "</ul>\n",
    "\n",
    "<ul id=\"ve-list\">\n",
    "<li class=\"white green\" data-lo=\"ko\">무</li>\n",
    "<li class=\"red green\" data-lo=\"us\">파프리카</li>\n",
    "<li class=\"black\" data-lo=\"ko\">가지</li>\n",
    "<li class=\"black\" data-lo=\"us\">아보카도</li>\n",
    "<li class=\"white\" data-lo=\"cn\">연근</li>\n",
    "</ul>\n",
    "</div>\n",
    "<body>\n",
    "</html>\n",
    "\"\"\"\n",
    "# 1. 야채이름 가져오기\n",
    "# 2. 과일이름 가져오기\n",
    "# 3. 야채 중에서 국산야채만 'ko' 가져오기\n",
    "# 4. 과일 중에서 미국과일만 'us' 가져오기\n",
    "# 5. 과일 중에서 노랑 yellow 가져오기\n",
    "# 6. 야채 중에서 black\n",
    "# 7. 전체에서 red green 가져오기\n",
    "# 8. 8번째 li 가져오기\n",
    "# 9. 전체에서 'us' 가져오기\n"
   ]
  }
 ],
 "metadata": {
  "kernelspec": {
   "display_name": "Python 3",
   "language": "python",
   "name": "python3"
  },
  "language_info": {
   "codemirror_mode": {
    "name": "ipython",
    "version": 3
   },
   "file_extension": ".py",
   "mimetype": "text/x-python",
   "name": "python",
   "nbconvert_exporter": "python",
   "pygments_lexer": "ipython3",
   "version": "3.7.0"
  }
 },
 "nbformat": 4,
 "nbformat_minor": 2
}
