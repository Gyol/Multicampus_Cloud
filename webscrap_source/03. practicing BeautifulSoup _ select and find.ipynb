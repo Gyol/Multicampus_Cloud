{
 "cells": [
  {
   "cell_type": "code",
   "execution_count": null,
   "metadata": {},
   "outputs": [],
   "source": []
  },
  {
   "cell_type": "code",
   "execution_count": 29,
   "metadata": {},
   "outputs": [],
   "source": [
    "book_html=\"\"\"\n",
    "<ul id=\"bible\">\n",
    "<li id=\"ge\" class=\"first\">\n",
    "<ul class=\"second\">\n",
    "    <div>\n",
    "        <li>\n",
    "            <span>aa</span>\n",
    "        </li>\n",
    "    </div>\n",
    "    <li>bb</li>\n",
    "    </div>\n",
    "</ul>\n",
    "</li>\n",
    "<li id=\"ex\" class=\"first\">나의첫사회생활</li>\n",
    "<li id=\"le\" class=\"second\">Still Me</li>\n",
    "<li id=\"nu\" class=\"second\">화염과 분노 : 도널드 트럼프의 백악관 뒷이야기</li>\n",
    "<li id=\"de\">매일 좋을 수만은 없는 여행을 한다</li>\n",
    "</ul>\n",
    "\"\"\"\n",
    "\n",
    "book_html\n",
    "\n",
    "# 저 셋째줄에 class=\"first\" 이거 key:value거든요\n",
    "\n",
    "from bs4 import BeautifulSoup\n",
    "\n",
    "soup = BeautifulSoup(book_html, 'html.parser')"
   ]
  },
  {
   "cell_type": "code",
   "execution_count": 30,
   "metadata": {},
   "outputs": [
    {
     "data": {
      "text/plain": [
       "'\\n<ul id=\"bible\">\\n<li id=\"ge\" class=\"first\">\\n<ul class=\"second\">\\n<li>aa</li>\\n<li>bb</li>\\n</ul>\\n</li>\\n<li id=\"ex\" class=\"first\">나의첫사회생활</li>\\n<li id=\"le\" class=\"second\">Still Me</li>\\n<li id=\"nu\" class=\"second\">화염과 분노 : 도널드 트럼프의 백악관 뒷이야기</li>\\n<li id=\"de\">매일 좋을 수만은 없는 여행을 한다</li>\\n</ul>\\n'"
      ]
     },
     "execution_count": 30,
     "metadata": {},
     "output_type": "execute_result"
    }
   ],
   "source": [
    "book_html=\"\"\"\n",
    "<ul id=\"bible\">\n",
    "<li id=\"ge\" class=\"first\">\n",
    "<ul class=\"second\">\n",
    "<li>aa</li>\n",
    "<li>bb</li>\n",
    "</ul>\n",
    "</li>\n",
    "<li id=\"ex\" class=\"first\">나의첫사회생활</li>\n",
    "<li id=\"le\" class=\"second\">Still Me</li>\n",
    "<li id=\"nu\" class=\"second\">화염과 분노 : 도널드 트럼프의 백악관 뒷이야기</li>\n",
    "<li id=\"de\">매일 좋을 수만은 없는 여행을 한다</li>\n",
    "</ul>\n",
    "\"\"\"\n",
    "\n",
    "book_html\n"
   ]
  },
  {
   "cell_type": "code",
   "execution_count": 16,
   "metadata": {},
   "outputs": [
    {
     "data": {
      "text/plain": [
       "\n",
       "<ul id=\"bible\">\n",
       "<li class=\"first\" id=\"ge\">\n",
       "<ul class=\"second\">\n",
       "<li>aa</li>\n",
       "<li>bb</li>\n",
       "</ul>\n",
       "</li>\n",
       "<li class=\"first\" id=\"ex\">나의첫사회생활</li>\n",
       "<li class=\"second\" id=\"le\">Still Me</li>\n",
       "<li class=\"second\" id=\"nu\">화염과 분노 : 도널드 트럼프의 백악관 뒷이야기</li>\n",
       "<li id=\"de\">매일 좋을 수만은 없는 여행을 한다</li>\n",
       "</ul>"
      ]
     },
     "execution_count": 16,
     "metadata": {},
     "output_type": "execute_result"
    }
   ],
   "source": [
    "from bs4 import BeautifulSoup\n",
    "\n",
    "soup = BeautifulSoup(book_html, 'html.parser')\n",
    "soup # 이러면 html코드 그냥 이쁘게 뽑아주지 위에보다"
   ]
  },
  {
   "cell_type": "code",
   "execution_count": 17,
   "metadata": {},
   "outputs": [
    {
     "name": "stdout",
     "output_type": "stream",
     "text": [
      "[<li class=\"first\" id=\"ge\">\n",
      "<ul class=\"second\">\n",
      "<li>aa</li>\n",
      "<li>bb</li>\n",
      "</ul>\n",
      "</li>, <li>aa</li>, <li>bb</li>, <li class=\"first\" id=\"ex\">나의첫사회생활</li>, <li class=\"second\" id=\"le\">Still Me</li>, <li class=\"second\" id=\"nu\">화염과 분노 : 도널드 트럼프의 백악관 뒷이야기</li>, <li id=\"de\">매일 좋을 수만은 없는 여행을 한다</li>]\n"
     ]
    }
   ],
   "source": [
    "from bs4 import BeautifulSoup\n",
    "\n",
    "soup = BeautifulSoup(book_html, 'html.parser')\n",
    "print(soup.select('ul li'))"
   ]
  },
  {
   "cell_type": "code",
   "execution_count": 18,
   "metadata": {},
   "outputs": [
    {
     "name": "stdout",
     "output_type": "stream",
     "text": [
      "<li class=\"first\" id=\"ge\">\n",
      "<ul class=\"second\">\n",
      "<li>aa</li>\n",
      "<li>bb</li>\n",
      "</ul>\n",
      "</li>\n",
      "<li>aa</li>\n",
      "<li>bb</li>\n",
      "<li class=\"first\" id=\"ex\">나의첫사회생활</li>\n",
      "<li class=\"second\" id=\"le\">Still Me</li>\n",
      "<li class=\"second\" id=\"nu\">화염과 분노 : 도널드 트럼프의 백악관 뒷이야기</li>\n",
      "<li id=\"de\">매일 좋을 수만은 없는 여행을 한다</li>\n"
     ]
    }
   ],
   "source": [
    "from bs4 import BeautifulSoup\n",
    "\n",
    "soup = BeautifulSoup(book_html, 'html.parser')\n",
    "\n",
    "for li_tag in soup.select('ul li'):\n",
    "    print(li_tag)"
   ]
  },
  {
   "cell_type": "code",
   "execution_count": 19,
   "metadata": {},
   "outputs": [
    {
     "name": "stdout",
     "output_type": "stream",
     "text": [
      "<class 'list'> [<li class=\"first\" id=\"ge\">\n",
      "<ul class=\"second\">\n",
      "<li>aa</li>\n",
      "<li>bb</li>\n",
      "</ul>\n",
      "</li>]\n",
      "\n",
      "<class 'bs4.element.Tag'> <li class=\"first\" id=\"ge\">\n",
      "<ul class=\"second\">\n",
      "<li>aa</li>\n",
      "<li>bb</li>\n",
      "</ul>\n",
      "</li>\n",
      "\n",
      "\n",
      "\n",
      "aa\n",
      "bb\n",
      "\n",
      "\n",
      "\n",
      "\n",
      "aa\n",
      "bb\n",
      "\n",
      "\n"
     ]
    }
   ],
   "source": [
    "# id가 ge인 태그 가져오기\n",
    "# select, select_one\n",
    "print(type(soup.select('#ge')), soup.select('#ge')) # select는 list로 가져오고\n",
    "print()\n",
    "\n",
    "print(type(soup.select_one('#ge')), soup.select_one('#ge'))\n",
    "# select_one은 하나 가져오니까 tag로 가져옴\n",
    "print()\n",
    "\n",
    "# print(soup.select('#ge').text)\n",
    "# 저거 하면 뜨는 오류문 AttributeError: 'list' object has no attribute 'text'\n",
    "# list이기 때문에 text라는 attribute가 없다는거지\n",
    "print(soup.select('#ge')[0].text)\n",
    "print(soup.select_one('#ge').text)\n",
    "# 얘는 위랑 다르게 오류가 안나 저 자체가 tag니까"
   ]
  },
  {
   "cell_type": "code",
   "execution_count": 23,
   "metadata": {},
   "outputs": [
    {
     "name": "stdout",
     "output_type": "stream",
     "text": [
      "[<ul class=\"second\">\n",
      "<li>aa</li>\n",
      "<li>bb</li>\n",
      "</ul>, <li class=\"second\" id=\"le\">Still Me</li>, <li class=\"second\" id=\"nu\">화염과 분노 : 도널드 트럼프의 백악관 뒷이야기</li>]\n",
      "\n",
      "[<li class=\"second\" id=\"le\">Still Me</li>, <li class=\"second\" id=\"nu\">화염과 분노 : 도널드 트럼프의 백악관 뒷이야기</li>]\n",
      "\n",
      "<li class=\"second\" id=\"le\">Still Me</li>\n"
     ]
    }
   ],
   "source": [
    "# class명이 second인거 뽑을거야\n",
    "print(soup.select(' .second'))\n",
    "print()\n",
    "print(soup.select('li.second'))\n",
    "print()\n",
    "print(soup.select_one('li.second')) # 이걸 굳이 쓸 이유가 없자녀 그래서 잘 안쓴다구욧"
   ]
  },
  {
   "cell_type": "code",
   "execution_count": 38,
   "metadata": {},
   "outputs": [
    {
     "name": "stdout",
     "output_type": "stream",
     "text": [
      "<class 'bs4.element.ResultSet'>\n",
      "\n",
      "[<li class=\"first\" id=\"ge\">\n",
      "<ul class=\"second\">\n",
      "<li>aa</li>\n",
      "<li>bb</li>\n",
      "</ul>\n",
      "</li>, <li>aa</li>, <li>bb</li>, <li class=\"first\" id=\"ex\">나의첫사회생활</li>, <li class=\"second\" id=\"le\">Still Me</li>, <li class=\"second\" id=\"nu\">화염과 분노 : 도널드 트럼프의 백악관 뒷이야기</li>, <li id=\"de\">매일 좋을 수만은 없는 여행을 한다</li>]\n",
      "\n",
      "---\n",
      "\n",
      "<class 'bs4.element.Tag'>\n",
      "\n",
      "<li class=\"first\" id=\"ge\">\n",
      "<ul class=\"second\">\n",
      "<li>aa</li>\n",
      "<li>bb</li>\n",
      "</ul>\n",
      "</li>\n"
     ]
    }
   ],
   "source": [
    "# find()와 find_all()\n",
    "# find() == select_one(), find_all() == select()\n",
    "a = soup.find_all('li')\n",
    "print(type(a)) # ResultSet이라는 객체로 받아온다\n",
    "print()\n",
    "print(a)\n",
    "print()\n",
    "print('---')\n",
    "print()\n",
    "b = soup.find('li')\n",
    "print(type(b))\n",
    "print()\n",
    "print(b)\n",
    "\n",
    "\n"
   ]
  },
  {
   "cell_type": "code",
   "execution_count": 48,
   "metadata": {},
   "outputs": [
    {
     "name": "stdout",
     "output_type": "stream",
     "text": [
      "<class 'bs4.element.ResultSet'> [<li class=\"second\" id=\"le\">Still Me</li>, <li class=\"second\" id=\"nu\">화염과 분노 : 도널드 트럼프의 백악관 뒷이야기</li>]\n",
      "---\n",
      "<class 'bs4.element.Tag'> <li class=\"second\" id=\"le\">Still Me</li>\n",
      "\n",
      "Still Me\n",
      "Still Me\n",
      "Still Me\n",
      "Still Me\n"
     ]
    }
   ],
   "source": [
    "# li.second\n",
    "\n",
    "print(type(soup.find_all('li')), soup.find_all('li', attrs={\"class\":\"second\"}))\n",
    "print('---')\n",
    "print(type(soup.find('li')), soup.find('li', attrs={'class':'second'}))\n",
    "print()\n",
    "print(soup.find('li', attrs={'class':'second'}).string)\n",
    "print(soup.find('li', attrs={'class':'second'}).text)\n",
    "print(soup.select_one('li.second').string)\n",
    "print(soup.select_one('li.second').text)\n"
   ]
  },
  {
   "cell_type": "code",
   "execution_count": 49,
   "metadata": {},
   "outputs": [],
   "source": [
    "# css 선택자를 입력받아서 결과를 반환하는 lambda함수 정의\n",
    "sel = lambda ex:print(soup.select_one(ex).string) # string대신 text해도 되긴해여"
   ]
  },
  {
   "cell_type": "code",
   "execution_count": 57,
   "metadata": {},
   "outputs": [
    {
     "name": "stdout",
     "output_type": "stream",
     "text": [
      "나의첫사회생활\n",
      "Still Me\n",
      "Still Me\n",
      "aa\n"
     ]
    }
   ],
   "source": [
    "sel('li#ex')\n",
    "sel('ul li#le')\n",
    "sel('ul > li#le')\n",
    "sel('ul.second li')"
   ]
  },
  {
   "cell_type": "code",
   "execution_count": 60,
   "metadata": {},
   "outputs": [],
   "source": [
    "book_html=\"\"\"\n",
    "<ul id=\"bible\">\n",
    "<li id=\"ge\" class=\"first\">\n",
    "<ul class=\"second\">\n",
    "    <div>\n",
    "        <li>\n",
    "            <span>aa</span>\n",
    "        </li>\n",
    "    </div>\n",
    "    <li>bb</li>\n",
    "    </div>\n",
    "</ul>\n",
    "</li>\n",
    "<li id=\"ex\" class=\"first\">나의첫사회생활</li>\n",
    "<li id=\"le\" class=\"second\">Still Me</li>\n",
    "<li id=\"nu\" class=\"second\">화염과 분노 : 도널드 트럼프의 백악관 뒷이야기</li>\n",
    "<li id=\"de\">매일 좋을 수만은 없는 여행을 한다</li>\n",
    "</ul>\n",
    "\"\"\"\n",
    "\n",
    "book_html\n",
    "\n",
    "# 저 셋째줄에 class=\"first\" 이거 key:value거든요\n",
    "\n",
    "from bs4 import BeautifulSoup\n",
    "\n",
    "soup = BeautifulSoup(book_html, 'html.parser')"
   ]
  },
  {
   "cell_type": "code",
   "execution_count": 68,
   "metadata": {},
   "outputs": [
    {
     "name": "stdout",
     "output_type": "stream",
     "text": [
      "나의첫사회생활\n",
      "None\n",
      "bb\n",
      "나의첫사회생활\n",
      "Still Me\n"
     ]
    }
   ],
   "source": [
    "sel('li#ex')\n",
    "# sel('ul li#le')\n",
    "# sel('ul > li#ie')\n",
    "sel('ul.second li')\n",
    "sel('ul.second > li')\n",
    "sel(\"li[id='ex']\")\n",
    "sel('li:nth-of-type(5)')"
   ]
  },
  {
   "cell_type": "code",
   "execution_count": 61,
   "metadata": {},
   "outputs": [
    {
     "name": "stdout",
     "output_type": "stream",
     "text": [
      "[<li>\n",
      "<span>aa</span>\n",
      "</li>, <li>bb</li>]\n",
      "-----\n",
      "[<li>bb</li>]\n"
     ]
    }
   ],
   "source": [
    "print(soup.select('ul.second li')) # 얘는 그니까 second에 li 밑에있는 애들 싹 긁어오고\n",
    "print('-----')\n",
    "print(soup.select('ul.second > li')) # 얘는 li 바로 밑에 붙은거만 가져오고"
   ]
  },
  {
   "cell_type": "code",
   "execution_count": 70,
   "metadata": {},
   "outputs": [
    {
     "name": "stdout",
     "output_type": "stream",
     "text": [
      "7 [<li class=\"first\" id=\"ge\">\n",
      "<ul class=\"second\">\n",
      "<div>\n",
      "<li>\n",
      "<span>aa</span>\n",
      "</li>\n",
      "</div>\n",
      "<li>bb</li>\n",
      "</ul></li>, <li>\n",
      "<span>aa</span>\n",
      "</li>, <li>bb</li>, <li class=\"first\" id=\"ex\">나의첫사회생활</li>, <li class=\"second\" id=\"le\">Still Me</li>, <li class=\"second\" id=\"nu\">화염과 분노 : 도널드 트럼프의 백악관 뒷이야기</li>, <li id=\"de\">매일 좋을 수만은 없는 여행을 한다</li>]\n",
      "---\n",
      "[<li class=\"second\" id=\"le\">Still Me</li>]\n"
     ]
    }
   ],
   "source": [
    "print(len(soup.select('li')), soup.select('li')) #li가 7개라고 말하네여\n",
    "# comma, 를 기준으로 가르는거야 li자체 개수라기보단\n",
    "print('---')\n",
    "print(soup.select('li:nth-of-type(5)'))"
   ]
  },
  {
   "cell_type": "code",
   "execution_count": null,
   "metadata": {},
   "outputs": [],
   "source": []
  },
  {
   "cell_type": "code",
   "execution_count": null,
   "metadata": {},
   "outputs": [],
   "source": []
  },
  {
   "cell_type": "code",
   "execution_count": null,
   "metadata": {},
   "outputs": [],
   "source": []
  },
  {
   "cell_type": "code",
   "execution_count": null,
   "metadata": {},
   "outputs": [],
   "source": []
  },
  {
   "cell_type": "code",
   "execution_count": null,
   "metadata": {},
   "outputs": [],
   "source": []
  },
  {
   "cell_type": "code",
   "execution_count": null,
   "metadata": {},
   "outputs": [],
   "source": []
  },
  {
   "cell_type": "code",
   "execution_count": null,
   "metadata": {},
   "outputs": [],
   "source": []
  }
 ],
 "metadata": {
  "kernelspec": {
   "display_name": "Python 3",
   "language": "python",
   "name": "python3"
  },
  "language_info": {
   "codemirror_mode": {
    "name": "ipython",
    "version": 3
   },
   "file_extension": ".py",
   "mimetype": "text/x-python",
   "name": "python",
   "nbconvert_exporter": "python",
   "pygments_lexer": "ipython3",
   "version": "3.7.0"
  }
 },
 "nbformat": 4,
 "nbformat_minor": 2
}
