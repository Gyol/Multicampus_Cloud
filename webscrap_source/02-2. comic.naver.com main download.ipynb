{
 "cells": [
  {
   "cell_type": "markdown",
   "metadata": {},
   "source": [
    "- a_tag['href'] 하면 a밑에 href속성 다 가져온다는거고\n",
    "- a_tag.text\n",
    "- <a href=\"\"><span>완결</span></a> 이렇게 되어있어도\n",
    "- a_tag.text.strip() 하면 공백제거... strip()이 공백제거라는것 기억햐"
   ]
  },
  {
   "cell_type": "code",
   "execution_count": null,
   "metadata": {},
   "outputs": [],
   "source": []
  },
  {
   "cell_type": "code",
   "execution_count": 3,
   "metadata": {},
   "outputs": [],
   "source": [
    "import requests\n",
    "from bs4 import BeautifulSoup\n",
    "import os\n",
    "\n",
    "main_url = 'https://comic.naver.com/index.nhn'\n",
    "res = requests.get(main_url)\n",
    "html = res.text\n",
    "soup = BeautifulSoup(html, 'html.parser')\n",
    "\n",
    "link_urls = []\n",
    "title_urls = []\n",
    "\n",
    "if not os.path.isdir('Naver comics main'):\n",
    "    os.mkdir('Naver comics main')\n",
    "\n",
    "for link_url in soup.select(\"a_tag['href']\"):\n",
    "    link_urls.append(link_url['href'])\n",
    "    \n",
    "\n"
   ]
  },
  {
   "cell_type": "code",
   "execution_count": null,
   "metadata": {},
   "outputs": [],
   "source": []
  }
 ],
 "metadata": {
  "kernelspec": {
   "display_name": "Python 3",
   "language": "python",
   "name": "python3"
  },
  "language_info": {
   "codemirror_mode": {
    "name": "ipython",
    "version": 3
   },
   "file_extension": ".py",
   "mimetype": "text/x-python",
   "name": "python",
   "nbconvert_exporter": "python",
   "pygments_lexer": "ipython3",
   "version": "3.7.0"
  }
 },
 "nbformat": 4,
 "nbformat_minor": 2
}
